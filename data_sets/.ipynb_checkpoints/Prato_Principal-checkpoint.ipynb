{
 "cells": [
  {
   "cell_type": "code",
   "execution_count": null,
   "id": "de6d0430",
   "metadata": {},
   "outputs": [],
   "source": [
    "import sklearn as skl\n",
    "import pandas as pd\n",
    "import matplotlib.pyplot as plt\n",
    "import seaborn as sns\n",
    "from sklearn import preprocessing\n",
    "import numpy as np\n",
    "import math "
   ]
  },
  {
   "cell_type": "markdown",
   "id": "7b4a6105",
   "metadata": {},
   "source": [
    "Check out the Data"
   ]
  },
  {
   "cell_type": "code",
   "execution_count": null,
   "id": "bc28cacf",
   "metadata": {},
   "outputs": [],
   "source": [
    "df = pd.read_csv(\"Portugal 2022-08-01 to 2023-08-01.csv\", na_filter = True)"
   ]
  },
  {
   "cell_type": "code",
   "execution_count": null,
   "id": "65fbd158",
   "metadata": {},
   "outputs": [],
   "source": [
    "df.info()"
   ]
  },
  {
   "cell_type": "code",
   "execution_count": null,
   "id": "f58f4ca0",
   "metadata": {},
   "outputs": [],
   "source": [
    "df.columns"
   ]
  },
  {
   "cell_type": "code",
   "execution_count": null,
   "id": "f805d6e8",
   "metadata": {},
   "outputs": [],
   "source": [
    "df.head()"
   ]
  },
  {
   "cell_type": "code",
   "execution_count": null,
   "id": "c50828ce",
   "metadata": {},
   "outputs": [],
   "source": [
    "df.describe()"
   ]
  },
  {
   "cell_type": "code",
   "execution_count": null,
   "id": "f52b2d32",
   "metadata": {},
   "outputs": [],
   "source": [
    "df.nunique()"
   ]
  },
  {
   "cell_type": "markdown",
   "id": "c53c6e80",
   "metadata": {},
   "source": [
    "Exploratory Data Analysis"
   ]
  },
  {
   "cell_type": "markdown",
   "id": "789d0429",
   "metadata": {},
   "source": [
    "1.Check for Duplicates"
   ]
  },
  {
   "cell_type": "code",
   "execution_count": null,
   "id": "ee782ca5",
   "metadata": {},
   "outputs": [],
   "source": [
    "# ver se existem linhas duplicadas se sim apager se não não fazer nada\n",
    "print ( df.duplicated().sum() )"
   ]
  },
  {
   "cell_type": "markdown",
   "id": "1152d476",
   "metadata": {},
   "source": [
    "Do nothing"
   ]
  },
  {
   "cell_type": "markdown",
   "id": "9641f77b",
   "metadata": {},
   "source": [
    "2.Check for missing Data"
   ]
  },
  {
   "cell_type": "code",
   "execution_count": null,
   "id": "930c05a5",
   "metadata": {},
   "outputs": [],
   "source": [
    "# ver se existem celulas vazias e se existirem temos de decidir preencher ou apagalas\n",
    "sns.heatmap(df.isnull(),yticklabels= False,  cbar = False, cmap = 'viridis')"
   ]
  },
  {
   "cell_type": "markdown",
   "id": "4d79ac36",
   "metadata": {},
   "source": [
    "Analise the atribute to decide what to do"
   ]
  },
  {
   "cell_type": "code",
   "execution_count": null,
   "id": "08963548",
   "metadata": {},
   "outputs": [],
   "source": [
    "# analisar a coluna preciptype e tentar chegar a uma decisão em o que fazer\n",
    "print(df['preciptype'])\n",
    "print('\\n')\n",
    "print ( df['preciptype'].describe() )\n",
    "print('\\n')\n",
    "print ( df['preciptype'].value_counts() )"
   ]
  },
  {
   "cell_type": "markdown",
   "id": "a7ed7663",
   "metadata": {},
   "source": [
    "Desicion: Delete the colum was our decision because there were too manny black spaces"
   ]
  },
  {
   "cell_type": "code",
   "execution_count": null,
   "id": "36a3bdd6",
   "metadata": {},
   "outputs": [],
   "source": [
    "# Decidimos como temos muitas entradas em branco que devemos apagar a coluna\n",
    "\n",
    "df.drop(['preciptype'], inplace = True, axis = 1) # apaga-mos a coluna 'preciptype'"
   ]
  },
  {
   "cell_type": "markdown",
   "id": "a891ab0b",
   "metadata": {},
   "source": [
    "Check there is no more missing data"
   ]
  },
  {
   "cell_type": "code",
   "execution_count": null,
   "id": "013db96f",
   "metadata": {},
   "outputs": [],
   "source": [
    "# ver que não existem mais colunas vazias\n",
    "sns.heatmap(df.isnull(),yticklabels= False,  cbar = False, cmap = 'viridis')"
   ]
  },
  {
   "cell_type": "markdown",
   "id": "68f3067a",
   "metadata": {},
   "source": [
    "3.Check for unique Data"
   ]
  },
  {
   "cell_type": "code",
   "execution_count": null,
   "id": "b40b9935",
   "metadata": {},
   "outputs": [],
   "source": [
    "df.nunique()"
   ]
  },
  {
   "cell_type": "markdown",
   "id": "b359c023",
   "metadata": {},
   "source": [
    "Realise that the atributes: snow, snowdepth and name are all unique data"
   ]
  },
  {
   "cell_type": "code",
   "execution_count": null,
   "id": "a79a86f8",
   "metadata": {},
   "outputs": [],
   "source": [
    "# verificar que na colunas name, snow e snowdepth temos apenas um valor para apagar\n",
    "print ( df['name'].nunique() )\n",
    "print(\"-------------------------------------------------------------------------------------------\")\n",
    "print ( df['snow'].nunique() )\n",
    "print(\"-------------------------------------------------------------------------------------------\")\n",
    "print ( df['snowdepth'].nunique())"
   ]
  },
  {
   "cell_type": "markdown",
   "id": "d9246f14",
   "metadata": {},
   "source": [
    "Alasise if we can extract data from them"
   ]
  },
  {
   "cell_type": "code",
   "execution_count": null,
   "id": "6c212a6e",
   "metadata": {},
   "outputs": [],
   "source": [
    "print ( df['name'].describe() )# Concluimos que temos apenas um nome ou seja podemos apagar esta coluna pois não trará nada de novo para o modelo\n",
    "print(\"-------------------------------------------------------------------------------------------\")\n",
    "print ( df['snow'].describe() )# Concluios que nunca nevou logo esta coluna é unutil\n",
    "print(\"-------------------------------------------------------------------------------------------\")\n",
    "print ( df['snowdepth'].describe())# Como nunca nevou nunca tivemos profundidade da neve logo esta coluna é unutil"
   ]
  },
  {
   "cell_type": "markdown",
   "id": "7b58170d",
   "metadata": {},
   "source": [
    "Realise that we can not and procide to there delicion"
   ]
  },
  {
   "cell_type": "code",
   "execution_count": null,
   "id": "b04f777c",
   "metadata": {},
   "outputs": [],
   "source": [
    "df.drop(['name'], inplace = True, axis = 1) # apaga-mos a coluna 'name'\n",
    "df.drop(['snow'], inplace = True, axis = 1) # apaga-mos a coluna 'snow'\n",
    "df.drop(['snowdepth'], inplace = True, axis = 1) # apaga-mos a coluna 'snowdepth'"
   ]
  },
  {
   "cell_type": "markdown",
   "id": "d9331fb3",
   "metadata": {},
   "source": [
    "Verificie that the atributes are gone now"
   ]
  },
  {
   "cell_type": "code",
   "execution_count": null,
   "id": "aea6b2f2",
   "metadata": {},
   "outputs": [],
   "source": [
    "df.head()"
   ]
  },
  {
   "cell_type": "markdown",
   "id": "f571a767",
   "metadata": {},
   "source": [
    "4.Check for redundant data"
   ]
  },
  {
   "cell_type": "markdown",
   "id": "fb8a49f0",
   "metadata": {},
   "source": [
    "Realise that the atributes: sunrise, sunset e datetime give repeated Data"
   ]
  },
  {
   "cell_type": "code",
   "execution_count": null,
   "id": "275ac99c",
   "metadata": {},
   "outputs": [],
   "source": [
    "# Analise do atributo sunrise\n",
    "\n",
    "print ( df['sunrise'].describe() )\n",
    "print(\"-------------------------------------------------------------------------------------------\")\n",
    "print ( df['sunrise'].value_counts() )\n",
    "print(\"-------------------------------------------------------------------------------------------\")\n",
    "print(df['sunrise'])"
   ]
  },
  {
   "cell_type": "code",
   "execution_count": null,
   "id": "1cef82d9",
   "metadata": {},
   "outputs": [],
   "source": [
    "# Analise do atributo sunset\n",
    "\n",
    "print ( df['sunset'].describe() )\n",
    "print(\"-------------------------------------------------------------------------------------------\")\n",
    "print ( df['sunset'].value_counts() )\n",
    "print(\"-------------------------------------------------------------------------------------------\")\n",
    "print(df['sunset'])"
   ]
  },
  {
   "cell_type": "code",
   "execution_count": null,
   "id": "c9b8c253",
   "metadata": {},
   "outputs": [],
   "source": [
    "# Analise do atributo datetime\n",
    "\n",
    "print ( df['datetime'].describe() )\n",
    "print(\"-------------------------------------------------------------------------------------------\")\n",
    "print ( df['datetime'].value_counts() )\n",
    "print(\"-------------------------------------------------------------------------------------------\")\n",
    "print(df['datetime'])"
   ]
  },
  {
   "cell_type": "markdown",
   "id": "833ba7cc",
   "metadata": {},
   "source": [
    "Procide to the extracion of the all the data that those atributes gave us and covert it all to new atributes"
   ]
  },
  {
   "cell_type": "code",
   "execution_count": null,
   "id": "065545d5",
   "metadata": {},
   "outputs": [],
   "source": [
    "#Transformar os atributos em datetime\n",
    "df['sunrise'] = pd.to_datetime(df['sunrise'])\n",
    "df['sunset'] = pd.to_datetime(df['sunset'])\n",
    "\n",
    "# Criar colunas para dia, mês, ano\n",
    "df['Year']   = df['sunrise'].dt.year\n",
    "df['Day']    = df['sunrise'].dt.day\n",
    "df['Month']  = df['sunrise'].dt.month\n",
    "\n",
    "# Criar colunas para  a hora de o sol nascer,o minuto de o sol nascer e o segundo de o sol nascer\n",
    "df['hour_rise']   = df['sunrise'].dt.hour\n",
    "df['minute_rise'] = df['sunrise'].dt.minute\n",
    "df['second_rise'] = df['sunrise'].dt.second\n",
    "\n",
    "# Criar colunas para a hora de sol se pôr, o minuto de o sol se pôr e o segundo de o sol se pôr\n",
    "df['hour_set']   = df['sunset'].dt.hour\n",
    "df['minute_set'] = df['sunset'].dt.minute\n",
    "df['second_set'] = df['sunset'].dt.second"
   ]
  },
  {
   "cell_type": "markdown",
   "id": "d6687ed0",
   "metadata": {},
   "source": [
    "Delete the old atributes because they do not have any Data that we do not have now"
   ]
  },
  {
   "cell_type": "code",
   "execution_count": null,
   "id": "f96015ef",
   "metadata": {},
   "outputs": [],
   "source": [
    "df.drop(['sunrise'], inplace = True, axis = 1) #  apaga-mos a coluna 'sunrise'  pois já temos essa informação\n",
    "df.drop(['sunset'], inplace = True, axis = 1) #   apaga-mos a coluna 'sunset'   pois já temos essa informação\n",
    "df.drop(['datetime'], inplace = True, axis = 1) # apaga-mos a coluna 'datetime' pois já temos essa informação"
   ]
  },
  {
   "cell_type": "markdown",
   "id": "7b2d4dce",
   "metadata": {},
   "source": [
    "Realise that the atributes: conditions, description e icon give us the same Data but in diferent forms"
   ]
  },
  {
   "cell_type": "code",
   "execution_count": null,
   "id": "2649c719",
   "metadata": {},
   "outputs": [],
   "source": [
    "# analise do atributo conditions\n",
    "print ( df['conditions'].describe() )\n",
    "print(\"-------------------------------------------------------------------------------------------\")\n",
    "print ( df['conditions'].value_counts() )\n",
    "print(\"-------------------------------------------------------------------------------------------\")\n",
    "print(df['conditions'])"
   ]
  },
  {
   "cell_type": "code",
   "execution_count": null,
   "id": "fb60fb1d",
   "metadata": {},
   "outputs": [],
   "source": [
    "# analise do atributo description\n",
    "print ( df['description'].describe() )\n",
    "print(\"-------------------------------------------------------------------------------------------\")\n",
    "print ( df['description'].value_counts() )\n",
    "print(\"-------------------------------------------------------------------------------------------\")\n",
    "print(df['description'])"
   ]
  },
  {
   "cell_type": "code",
   "execution_count": null,
   "id": "05370883",
   "metadata": {},
   "outputs": [],
   "source": [
    "# analise do atributo icon\n",
    "print ( df['icon'].describe() )\n",
    "print(\"-------------------------------------------------------------------------------------------\")\n",
    "print ( df['icon'].value_counts() )\n",
    "print(\"-------------------------------------------------------------------------------------------\")\n",
    "print(df['icon'])"
   ]
  },
  {
   "cell_type": "markdown",
   "id": "0d06abeb",
   "metadata": {},
   "source": [
    "Gruop all of this atributs and realise that the description atribut has more data"
   ]
  },
  {
   "cell_type": "code",
   "execution_count": null,
   "id": "57e3f9ec",
   "metadata": {},
   "outputs": [],
   "source": [
    "# Criar um novo dataset com apenas os três atributos em baixo\n",
    "iguais = ['conditions', 'icon','description']\n",
    "df_novo = df[iguais]\n",
    "\n",
    "# Calcular a contagem de todas as combinações de categorias de cada coluna\n",
    "contagem_combinacoes = df.groupby(['conditions', 'icon','description']).size().reset_index(name='count')\n",
    "\n",
    "# exibir um dataset com a contagem da intercessão das diferentes combinações de categorias\n",
    "print(contagem_combinacoes)"
   ]
  },
  {
   "cell_type": "markdown",
   "id": "17ece970",
   "metadata": {},
   "source": [
    "Creat new binary atributs through the old catgories in description"
   ]
  },
  {
   "cell_type": "code",
   "execution_count": null,
   "id": "a9c6e2d2",
   "metadata": {},
   "outputs": [],
   "source": [
    "# Criar os atributos binários\n",
    "df['rain_morning'] = (df['description'].str.contains('morning rain') |\n",
    "                      df['description'].str.contains('Partly cloudy throughout the day with rain in the morning and afternoon') |\n",
    "                      df['description'].str.contains('Partly cloudy throughout the day with a chance of rain throughout the day') |\n",
    "                      df['description'].str.contains('with rain clearing later') |\n",
    "                      df['description'].str.contains('with rain')).astype(int)"
   ]
  },
  {
   "cell_type": "code",
   "execution_count": null,
   "id": "f3fc70d0",
   "metadata": {},
   "outputs": [],
   "source": [
    "df['rain_afternoon'] = (df['description'].str.contains('afternoon rain') |\n",
    "                        df['description'].str.contains('rain in the morning and afternoon') |\n",
    "                        df['description'].str.contains('Partly cloudy throughout the day with rain')\n",
    "                       ).astype(int)"
   ]
  },
  {
   "cell_type": "code",
   "execution_count": null,
   "id": "52e13e31",
   "metadata": {},
   "outputs": [],
   "source": [
    "df['cloud_morning'] = (df['description'].str.contains('Clearing in the afternoon') |\n",
    "                       df['description'].str.contains('Partly cloudy throughout the day') |\n",
    "                       df['description'].str.contains('Cloudy skies throughout the day')\n",
    "                      ).astype(int)"
   ]
  },
  {
   "cell_type": "code",
   "execution_count": null,
   "id": "e103c236",
   "metadata": {},
   "outputs": [],
   "source": [
    "df['cloud_afternoon'] = (df['description'].str.contains('Partly cloudy throughout the day') |\n",
    "                         df['description'].str.contains('Becoming cloudy in the afternoon') |\n",
    "                         df['description'].str.contains('Cloudy skies throughout the day')\n",
    "                        ).astype(int)"
   ]
  },
  {
   "cell_type": "code",
   "execution_count": null,
   "id": "793f419e",
   "metadata": {},
   "outputs": [],
   "source": [
    "df['clear_morning'] = (df['description'].str.contains('Clear conditions throughout the day.') |\n",
    "                      df['description'].str.contains('Becoming cloudy in the afternoon.')\n",
    "                     ).astype(int)"
   ]
  },
  {
   "cell_type": "code",
   "execution_count": null,
   "id": "c9ca1998",
   "metadata": {},
   "outputs": [],
   "source": [
    "df['clear_afternoon'] = (df['description'].str.contains('Clear conditions throughout the day') |\n",
    "                        df['description'].str.contains('Clearing in the afternoon')\n",
    "                       ).astype(int)"
   ]
  },
  {
   "cell_type": "markdown",
   "id": "67e8dcd2",
   "metadata": {},
   "source": [
    "Delete the old atributes because they do not have any Data that we do not have now"
   ]
  },
  {
   "cell_type": "code",
   "execution_count": null,
   "id": "e89081dd",
   "metadata": {},
   "outputs": [],
   "source": [
    "df.drop(['conditions'], inplace = True, axis = 1)  # apaga-mos a coluna 'conditions'  pois já temos essa informação\n",
    "df.drop(['description'], inplace = True, axis = 1) # apaga-mos a coluna 'description' pois já temos essa informação\n",
    "df.drop(['icon'], inplace = True, axis = 1)        # apaga-mos a coluna 'icon'        pois já temos essa informação"
   ]
  },
  {
   "cell_type": "markdown",
   "id": "04465351",
   "metadata": {},
   "source": [
    "Realise that the atributes: precipprob and (rain_morning and rain_afternoon) give us the same Data but in diferent forms"
   ]
  },
  {
   "cell_type": "code",
   "execution_count": null,
   "id": "1ac58e13",
   "metadata": {},
   "outputs": [],
   "source": [
    "# analise do atributo precipprob\n",
    "print ( df['precipprob'].describe() )\n",
    "print(\"-------------------------------------------------------------------------------------------\")\n",
    "print ( df['precipprob'].value_counts() )\n",
    "print(\"-------------------------------------------------------------------------------------------\")\n",
    "print(df['precipprob'])\n",
    "# vemos que é um atributo que é ou 0 ou 100, para dizer se chove ou não logo como já temos as \n",
    "#colunas rain_morning and rain_afternoon concluimos que ele é inutil"
   ]
  },
  {
   "cell_type": "markdown",
   "id": "81cb91fd",
   "metadata": {},
   "source": [
    "Delete the atribute precipprob"
   ]
  },
  {
   "cell_type": "code",
   "execution_count": null,
   "id": "4feda7e8",
   "metadata": {},
   "outputs": [],
   "source": [
    "df.drop(['precipprob'], inplace = True, axis = 1) # apaga-mos a coluna 'precipprob'  pois já temos essa informação"
   ]
  },
  {
   "cell_type": "markdown",
   "id": "16b34ed3",
   "metadata": {},
   "source": [
    "Verificie all of our changes"
   ]
  },
  {
   "cell_type": "code",
   "execution_count": null,
   "id": "2b2f3fbf",
   "metadata": {},
   "outputs": [],
   "source": [
    "df.head()"
   ]
  },
  {
   "cell_type": "markdown",
   "id": "4dc68134",
   "metadata": {},
   "source": [
    "5.Check if you can't get more data"
   ]
  },
  {
   "cell_type": "markdown",
   "id": "0c58200a",
   "metadata": {},
   "source": [
    "Realise that we can extract more relevant data from the atribute winddir "
   ]
  },
  {
   "cell_type": "code",
   "execution_count": null,
   "id": "c680f025",
   "metadata": {},
   "outputs": [],
   "source": [
    "# analise do atributo winddir\n",
    "print ( df['winddir'].describe() )\n",
    "print(\"-------------------------------------------------------------------------------------------\")\n",
    "print ( df['winddir'].value_counts() )\n",
    "print(\"-------------------------------------------------------------------------------------------\")\n",
    "print(df['winddir'].nunique())\n",
    "print(\"-------------------------------------------------------------------------------------------\")\n",
    "print(df['winddir'])\n",
    "# este é o atributo que nos dá a direção do vento em float"
   ]
  },
  {
   "cell_type": "markdown",
   "id": "d6af6734",
   "metadata": {},
   "source": [
    "This is the atribute that give us the direcion of the wind on a float\n",
    "\n",
    "\n",
    "This atribute was manny unique values, so whoud me better if we had the catgoric direcions: north, northeast, north-northeast, east-northeast, east, east-southeast, southeast, south, south-southeast, southwest, south-southwest, west-southwest, west, west-northwest, northwest, north-northwest, north-northeast"
   ]
  },
  {
   "cell_type": "code",
   "execution_count": null,
   "id": "37fa4472",
   "metadata": {},
   "outputs": [],
   "source": [
    "#função que categorira a direção do vento\n",
    "def categorize_wind_direction(wind_direction):\n",
    "    \n",
    "    categories = [\"north\", \"northeast\",\"north-northeast\",\"east-northeast\",\"east\",\"east-southeast\",\n",
    "                  \"southeast\", \"south\",\"south-southeast\", \"southwest\", \"south-southwest\" ,\"west-southwest\",\n",
    "                  \"west\", \"west-northwest\" ,\"northwest\",\"north-northwest\", \"north-northeast\"]\n",
    "    \n",
    "    index = round( (wind_direction % 360) / 22.5) % 16\n",
    "    return categories[index]\n",
    "\n",
    "# Aplicar a função à coluna 'winddir'\n",
    "df['winddir'] = df['winddir'].apply(categorize_wind_direction)\n",
    "\n",
    "# categorizar o atributo\n",
    "df['winddir'] = df['winddir'].astype('category')"
   ]
  },
  {
   "cell_type": "markdown",
   "id": "b3f4539e",
   "metadata": {},
   "source": [
    "Now we shoud extract all of this catgories and creat new binary atributes"
   ]
  },
  {
   "cell_type": "code",
   "execution_count": null,
   "id": "f78c1889",
   "metadata": {},
   "outputs": [],
   "source": [
    "from sklearn.preprocessing import LabelBinarizer\n",
    "\n",
    "lb = LabelBinarizer()\n",
    "\n",
    "lb_results = lb.fit_transform(df['winddir'])\n",
    "\n",
    "df_lb_results = pd.DataFrame(lb_results,columns = lb.classes_)\n",
    "\n",
    "df = pd.concat([df, df_lb_results], axis = 1)\n",
    "\n",
    "# estamos a criar os novos atributos binários consuante as categorias de winddir"
   ]
  },
  {
   "cell_type": "markdown",
   "id": "d6145725",
   "metadata": {},
   "source": [
    "Delete the atribute winddir"
   ]
  },
  {
   "cell_type": "code",
   "execution_count": null,
   "id": "cc0bcd88",
   "metadata": {},
   "outputs": [],
   "source": [
    "df.drop(['winddir'], inplace = True, axis = 1) # apaga-mos a coluna 'winddir'  pois já temos essa informação"
   ]
  },
  {
   "cell_type": "markdown",
   "id": "8f524498",
   "metadata": {},
   "source": [
    "Realise that we can extract more relevant data from the atribute stacions"
   ]
  },
  {
   "cell_type": "code",
   "execution_count": null,
   "id": "efc595d0",
   "metadata": {},
   "outputs": [],
   "source": [
    "# analise do atributo stacions\n",
    "print ( df['stations'].describe() )\n",
    "print(\"-------------------------------------------------------------------------------------------\")\n",
    "print ( df['stations'].value_counts() )\n",
    "print(\"-------------------------------------------------------------------------------------------\")\n",
    "print(df['stations'])\n",
    "\n",
    "# este é um atributo que nos dá qual foi a estação meteriológica que registou os valores"
   ]
  },
  {
   "cell_type": "markdown",
   "id": "ad82e422",
   "metadata": {},
   "source": [
    "Let as creat new atributes from the old atribute stacions"
   ]
  },
  {
   "cell_type": "code",
   "execution_count": null,
   "id": "a5238c66",
   "metadata": {},
   "outputs": [],
   "source": [
    "# Criar uma lista única de todas as estações\n",
    "all_stations = set(','.join(df['stations']).split(','))\n",
    "\n",
    "# Criar colunas binárias para cada estação\n",
    "for station in all_stations:\n",
    "    df[station] = df['stations'].apply(lambda x: int(station in x))"
   ]
  },
  {
   "cell_type": "markdown",
   "id": "5aaa5045",
   "metadata": {},
   "source": [
    "Delete the the atribute stations"
   ]
  },
  {
   "cell_type": "code",
   "execution_count": null,
   "id": "d20a1eba",
   "metadata": {},
   "outputs": [],
   "source": [
    "df = df.drop('stations', axis=1)# apaga-mos a coluna 'stations'  pois já temos essa informação"
   ]
  },
  {
   "cell_type": "markdown",
   "id": "1efe64ad",
   "metadata": {},
   "source": [
    "Verifie that the new atributs 08534099999, 08536099999, LPPT and only have one value"
   ]
  },
  {
   "cell_type": "code",
   "execution_count": null,
   "id": "eaf6fdae",
   "metadata": {},
   "outputs": [],
   "source": [
    "print ( df['08534099999'].describe() )\n",
    "print(\"-------------------------------------------------------------------------------------------\")\n",
    "print ( df['08534099999'].value_counts() )\n",
    "print(\"-------------------------------------------------------------------------------------------\")\n",
    "print(df['08534099999'].nunique())"
   ]
  },
  {
   "cell_type": "code",
   "execution_count": null,
   "id": "e4636644",
   "metadata": {},
   "outputs": [],
   "source": [
    "print ( df['08536099999'].describe() )\n",
    "print(\"-------------------------------------------------------------------------------------------\")\n",
    "print ( df['08536099999'].value_counts() )\n",
    "print(\"-------------------------------------------------------------------------------------------\")\n",
    "print(df['08536099999'].nunique())"
   ]
  },
  {
   "cell_type": "code",
   "execution_count": null,
   "id": "cc8a3fa6",
   "metadata": {},
   "outputs": [],
   "source": [
    "print ( df['LPPT'].describe() )\n",
    "print(\"-------------------------------------------------------------------------------------------\")\n",
    "print ( df['LPPT'].value_counts() )\n",
    "print(\"-------------------------------------------------------------------------------------------\")\n",
    "print(df['LPPT'].nunique())"
   ]
  },
  {
   "cell_type": "markdown",
   "id": "d6f7c3c8",
   "metadata": {},
   "source": [
    "Drop all of the atributes whith one value"
   ]
  },
  {
   "cell_type": "code",
   "execution_count": null,
   "id": "f8f4a114",
   "metadata": {},
   "outputs": [],
   "source": [
    "df = df.drop('08534099999', axis=1)# apaga-mos a coluna '08534099999'  pois já temos essa informação\n",
    "df = df.drop('08536099999', axis=1)# apaga-mos a coluna '08536099999'  pois já temos essa informação\n",
    "df = df.drop('LPPT', axis=1)       # apaga-mos a coluna 'LPPT'         pois já temos essa informação"
   ]
  }
 ],
 "metadata": {
  "kernelspec": {
   "display_name": "Python 3 (ipykernel)",
   "language": "python",
   "name": "python3"
  },
  "language_info": {
   "codemirror_mode": {
    "name": "ipython",
    "version": 3
   },
   "file_extension": ".py",
   "mimetype": "text/x-python",
   "name": "python",
   "nbconvert_exporter": "python",
   "pygments_lexer": "ipython3",
   "version": "3.10.0"
  }
 },
 "nbformat": 4,
 "nbformat_minor": 5
}
