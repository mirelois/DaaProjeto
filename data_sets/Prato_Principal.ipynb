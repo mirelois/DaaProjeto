{
 "cells": [
  {
   "cell_type": "code",
   "execution_count": null,
   "id": "971d8a99",
   "metadata": {},
   "outputs": [],
   "source": [
    "import sklearn as skl\n",
    "import pandas as pd\n",
    "import matplotlib.pyplot as plt\n",
    "import seaborn as sns\n",
    "from sklearn import preprocessing\n",
    "import numpy as np\n",
    "import math "
   ]
  },
  {
   "cell_type": "markdown",
   "id": "27acad1b",
   "metadata": {},
   "source": [
    "Check out the Data"
   ]
  },
  {
   "cell_type": "code",
   "execution_count": null,
   "id": "663d01c8",
   "metadata": {},
   "outputs": [],
   "source": [
    "df = pd.read_csv(\"Portugal 2022-08-01 to 2023-08-01.csv\", na_filter = True)"
   ]
  },
  {
   "cell_type": "code",
   "execution_count": null,
   "id": "946eb689",
   "metadata": {},
   "outputs": [],
   "source": [
    "df.info()"
   ]
  },
  {
   "cell_type": "code",
   "execution_count": null,
   "id": "70fda183",
   "metadata": {},
   "outputs": [],
   "source": [
    "df.columns"
   ]
  },
  {
   "cell_type": "code",
   "execution_count": null,
   "id": "fc52a9a0",
   "metadata": {},
   "outputs": [],
   "source": [
    "df.head()"
   ]
  },
  {
   "cell_type": "code",
   "execution_count": null,
   "id": "60dce4f7",
   "metadata": {},
   "outputs": [],
   "source": [
    "df.describe()"
   ]
  },
  {
   "cell_type": "code",
   "execution_count": null,
   "id": "f389e5f0",
   "metadata": {},
   "outputs": [],
   "source": [
    "df.nunique()"
   ]
  },
  {
   "cell_type": "markdown",
   "id": "21254629",
   "metadata": {},
   "source": [
    "Exploratory Data Analysis"
   ]
  },
  {
   "cell_type": "markdown",
   "id": "b148b61d",
   "metadata": {},
   "source": [
    "1.Check for Duplicates"
   ]
  },
  {
   "cell_type": "code",
   "execution_count": null,
   "id": "4f21850b",
   "metadata": {},
   "outputs": [],
   "source": [
    "# ver se existem linhas duplicadas se sim apager se não não fazer nada\n",
    "print ( df.duplicated().sum() )"
   ]
  },
  {
   "cell_type": "markdown",
   "id": "546791fb",
   "metadata": {},
   "source": [
    "Do nothing"
   ]
  },
  {
   "cell_type": "markdown",
   "id": "39b521bf",
   "metadata": {},
   "source": [
    "2.Check for missing Data"
   ]
  },
  {
   "cell_type": "code",
   "execution_count": null,
   "id": "16dc460d",
   "metadata": {},
   "outputs": [],
   "source": [
    "# ver se existem celulas vazias e se existirem temos de decidir preencher ou apagalas\n",
    "sns.heatmap(df.isnull(),yticklabels= False,  cbar = False, cmap = 'viridis')"
   ]
  },
  {
   "cell_type": "markdown",
   "id": "3e3a1aef",
   "metadata": {},
   "source": [
    "Analise the atribute to decide what to do"
   ]
  },
  {
   "cell_type": "code",
   "execution_count": null,
   "id": "577b18ae",
   "metadata": {},
   "outputs": [],
   "source": [
    "# analisar a coluna preciptype e tentar chegar a uma decisão em o que fazer\n",
    "print(df['preciptype'])\n",
    "print('\\n')\n",
    "print ( df['preciptype'].describe() )\n",
    "print('\\n')\n",
    "print ( df['preciptype'].value_counts() )"
   ]
  },
  {
   "cell_type": "markdown",
   "id": "18821ab1",
   "metadata": {},
   "source": [
    "Desicion: Delete the colum was our decision because there were too manny black spaces"
   ]
  },
  {
   "cell_type": "code",
   "execution_count": null,
   "id": "f47cd67b",
   "metadata": {},
   "outputs": [],
   "source": [
    "# Decidimos como temos muitas entradas em branco que devemos apagar a coluna\n",
    "\n",
    "df.drop(['preciptype'], inplace = True, axis = 1) # apaga-mos a coluna 'preciptype'"
   ]
  },
  {
   "cell_type": "markdown",
   "id": "473ca590",
   "metadata": {},
   "source": [
    "Check there is no more missing data"
   ]
  },
  {
   "cell_type": "code",
   "execution_count": null,
   "id": "c870da04",
   "metadata": {},
   "outputs": [],
   "source": [
    "# ver que não existem mais colunas vazias\n",
    "sns.heatmap(df.isnull(),yticklabels= False,  cbar = False, cmap = 'viridis')"
   ]
  },
  {
   "cell_type": "markdown",
   "id": "223219dd",
   "metadata": {},
   "source": [
    "3.Check for unique Data"
   ]
  },
  {
   "cell_type": "code",
   "execution_count": null,
   "id": "24a3ecd7",
   "metadata": {},
   "outputs": [],
   "source": [
    "df.nunique()"
   ]
  },
  {
   "cell_type": "markdown",
   "id": "557505ce",
   "metadata": {},
   "source": [
    "Realise that the atributes: snow, snowdepth and name are all unique data"
   ]
  },
  {
   "cell_type": "code",
   "execution_count": null,
   "id": "5fcb9aeb",
   "metadata": {},
   "outputs": [],
   "source": [
    "# verificar que na colunas name, snow e snowdepth temos apenas um valor para apagar\n",
    "print ( df['name'].nunique() )\n",
    "print(\"-------------------------------------------------------------------------------------------\")\n",
    "print ( df['snow'].nunique() )\n",
    "print(\"-------------------------------------------------------------------------------------------\")\n",
    "print ( df['snowdepth'].nunique())"
   ]
  },
  {
   "cell_type": "markdown",
   "id": "c65e8e73",
   "metadata": {},
   "source": [
    "Alasise if we can extract data from them"
   ]
  },
  {
   "cell_type": "code",
   "execution_count": null,
   "id": "008aa0b9",
   "metadata": {},
   "outputs": [],
   "source": [
    "print ( df['name'].describe() )# Concluimos que temos apenas um nome ou seja podemos apagar esta coluna pois não trará nada de novo para o modelo\n",
    "print(\"-------------------------------------------------------------------------------------------\")\n",
    "print ( df['snow'].describe() )# Concluios que nunca nevou logo esta coluna é unutil\n",
    "print(\"-------------------------------------------------------------------------------------------\")\n",
    "print ( df['snowdepth'].describe())# Como nunca nevou nunca tivemos profundidade da neve logo esta coluna é unutil"
   ]
  },
  {
   "cell_type": "markdown",
   "id": "a42cd013",
   "metadata": {},
   "source": [
    "Realise that we can not and procide to there delicion"
   ]
  },
  {
   "cell_type": "code",
   "execution_count": null,
   "id": "ca7b20c6",
   "metadata": {},
   "outputs": [],
   "source": [
    "df.drop(['name'], inplace = True, axis = 1) # apaga-mos a coluna 'name'\n",
    "df.drop(['snow'], inplace = True, axis = 1) # apaga-mos a coluna 'snow'\n",
    "df.drop(['snowdepth'], inplace = True, axis = 1) # apaga-mos a coluna 'snowdepth'"
   ]
  },
  {
   "cell_type": "markdown",
   "id": "80395765",
   "metadata": {},
   "source": [
    "Verificie that the atributes are gone now"
   ]
  },
  {
   "cell_type": "code",
   "execution_count": null,
   "id": "ef5ea81e",
   "metadata": {},
   "outputs": [],
   "source": [
    "df.head()"
   ]
  },
  {
   "cell_type": "markdown",
   "id": "c4c66c2b",
   "metadata": {},
   "source": [
    "4.Check for redundant data"
   ]
  },
  {
   "cell_type": "markdown",
   "id": "a11e6892",
   "metadata": {},
   "source": [
    "Realise that the atributes: sunrise, sunset e datetime give repeated Data"
   ]
  },
  {
   "cell_type": "code",
   "execution_count": null,
   "id": "a633d3f9",
   "metadata": {},
   "outputs": [],
   "source": [
    "# Analise do atributo sunrise\n",
    "\n",
    "print ( df['sunrise'].describe() )\n",
    "print(\"-------------------------------------------------------------------------------------------\")\n",
    "print ( df['sunrise'].value_counts() )\n",
    "print(\"-------------------------------------------------------------------------------------------\")\n",
    "print(df['sunrise'])"
   ]
  },
  {
   "cell_type": "code",
   "execution_count": null,
   "id": "914d2efa",
   "metadata": {},
   "outputs": [],
   "source": [
    "# Analise do atributo sunset\n",
    "\n",
    "print ( df['sunset'].describe() )\n",
    "print(\"-------------------------------------------------------------------------------------------\")\n",
    "print ( df['sunset'].value_counts() )\n",
    "print(\"-------------------------------------------------------------------------------------------\")\n",
    "print(df['sunset'])"
   ]
  },
  {
   "cell_type": "code",
   "execution_count": null,
   "id": "174cf71e",
   "metadata": {},
   "outputs": [],
   "source": [
    "# Analise do atributo datetime\n",
    "\n",
    "print ( df['datetime'].describe() )\n",
    "print(\"-------------------------------------------------------------------------------------------\")\n",
    "print ( df['datetime'].value_counts() )\n",
    "print(\"-------------------------------------------------------------------------------------------\")\n",
    "print(df['datetime'])"
   ]
  },
  {
   "cell_type": "markdown",
   "id": "2348bfec",
   "metadata": {},
   "source": [
    "Procide to the extracion of the all the data that those atributes gave us and covert it all to new atributes"
   ]
  },
  {
   "cell_type": "code",
   "execution_count": null,
   "id": "8fc1cbaf",
   "metadata": {},
   "outputs": [],
   "source": [
    "#Transformar os atributos em datetime\n",
    "df['sunrise'] = pd.to_datetime(df['sunrise'])\n",
    "df['sunset'] = pd.to_datetime(df['sunset'])\n",
    "\n",
    "# Criar colunas para dia, mês, ano\n",
    "df['Year']   = df['sunrise'].dt.year\n",
    "df['Day']    = df['sunrise'].dt.day\n",
    "df['Month']  = df['sunrise'].dt.month\n",
    "\n",
    "# Criar colunas para  a hora de o sol nascer,o minuto de o sol nascer e o segundo de o sol nascer\n",
    "df['hour_rise']   = df['sunrise'].dt.hour\n",
    "df['minute_rise'] = df['sunrise'].dt.minute\n",
    "df['second_rise'] = df['sunrise'].dt.second\n",
    "\n",
    "# Criar colunas para a hora de sol se pôr, o minuto de o sol se pôr e o segundo de o sol se pôr\n",
    "df['hour_set']   = df['sunset'].dt.hour\n",
    "df['minute_set'] = df['sunset'].dt.minute\n",
    "df['second_set'] = df['sunset'].dt.second"
   ]
  },
  {
   "cell_type": "markdown",
   "id": "6074494b",
   "metadata": {},
   "source": [
    "Delete the old atributes because they do not have any Data that we do not have now"
   ]
  },
  {
   "cell_type": "code",
   "execution_count": null,
   "id": "de011af2",
   "metadata": {},
   "outputs": [],
   "source": [
    "df.drop(['sunrise'], inplace = True, axis = 1) #  apaga-mos a coluna 'sunrise'  pois já temos essa informação\n",
    "df.drop(['sunset'], inplace = True, axis = 1) #   apaga-mos a coluna 'sunset'   pois já temos essa informação\n",
    "df.drop(['datetime'], inplace = True, axis = 1) # apaga-mos a coluna 'datetime' pois já temos essa informação"
   ]
  },
  {
   "cell_type": "markdown",
   "id": "c20cb8f9",
   "metadata": {},
   "source": [
    "Realise that the atributes: conditions, description e icon give us the same Data but in diferent forms"
   ]
  },
  {
   "cell_type": "code",
   "execution_count": null,
   "id": "f0255b18",
   "metadata": {},
   "outputs": [],
   "source": [
    "# analise do atributo conditions\n",
    "print ( df['conditions'].describe() )\n",
    "print(\"-------------------------------------------------------------------------------------------\")\n",
    "print ( df['conditions'].value_counts() )\n",
    "print(\"-------------------------------------------------------------------------------------------\")\n",
    "print(df['conditions'])"
   ]
  },
  {
   "cell_type": "code",
   "execution_count": null,
   "id": "1a602495",
   "metadata": {},
   "outputs": [],
   "source": [
    "# analise do atributo description\n",
    "print ( df['description'].describe() )\n",
    "print(\"-------------------------------------------------------------------------------------------\")\n",
    "print ( df['description'].value_counts() )\n",
    "print(\"-------------------------------------------------------------------------------------------\")\n",
    "print(df['description'])"
   ]
  },
  {
   "cell_type": "code",
   "execution_count": null,
   "id": "89d7de1e",
   "metadata": {},
   "outputs": [],
   "source": [
    "# analise do atributo icon\n",
    "print ( df['icon'].describe() )\n",
    "print(\"-------------------------------------------------------------------------------------------\")\n",
    "print ( df['icon'].value_counts() )\n",
    "print(\"-------------------------------------------------------------------------------------------\")\n",
    "print(df['icon'])"
   ]
  },
  {
   "cell_type": "markdown",
   "id": "e5453e49",
   "metadata": {},
   "source": [
    "Gruop all of this atributs and realise that the description atribut has more data"
   ]
  },
  {
   "cell_type": "code",
   "execution_count": null,
   "id": "32f047f3",
   "metadata": {},
   "outputs": [],
   "source": [
    "# Criar um novo dataset com apenas os três atributos em baixo\n",
    "iguais = ['conditions', 'icon','description']\n",
    "df_novo = df[iguais]\n",
    "\n",
    "# Calcular a contagem de todas as combinações de categorias de cada coluna\n",
    "contagem_combinacoes = df.groupby(['conditions', 'icon','description']).size().reset_index(name='count')\n",
    "\n",
    "# exibir um dataset com a contagem da intercessão das diferentes combinações de categorias\n",
    "print(contagem_combinacoes)"
   ]
  },
  {
   "cell_type": "markdown",
   "id": "d9fd1b5f",
   "metadata": {},
   "source": [
    "Creat new binary atributs through the old catgories in description"
   ]
  },
  {
   "cell_type": "code",
   "execution_count": null,
   "id": "b48114a0",
   "metadata": {},
   "outputs": [],
   "source": [
    "# Criar os atributos binários\n",
    "df['rain_morning'] = (df['description'].str.contains('morning rain') |\n",
    "                      df['description'].str.contains('Partly cloudy throughout the day with rain in the morning and afternoon') |\n",
    "                      df['description'].str.contains('Partly cloudy throughout the day with a chance of rain throughout the day') |\n",
    "                      df['description'].str.contains('with rain clearing later') |\n",
    "                      df['description'].str.contains('with rain')).astype(int)"
   ]
  },
  {
   "cell_type": "code",
   "execution_count": null,
   "id": "5e7260dc",
   "metadata": {},
   "outputs": [],
   "source": [
    "df['rain_afternoon'] = (df['description'].str.contains('afternoon rain') |\n",
    "                        df['description'].str.contains('rain in the morning and afternoon') |\n",
    "                        df['description'].str.contains('Partly cloudy throughout the day with rain')\n",
    "                       ).astype(int)"
   ]
  },
  {
   "cell_type": "code",
   "execution_count": null,
   "id": "be76c7a6",
   "metadata": {},
   "outputs": [],
   "source": [
    "df['cloud_morning'] = (df['description'].str.contains('Clearing in the afternoon') |\n",
    "                       df['description'].str.contains('Partly cloudy throughout the day') |\n",
    "                       df['description'].str.contains('Cloudy skies throughout the day')\n",
    "                      ).astype(int)"
   ]
  },
  {
   "cell_type": "code",
   "execution_count": null,
   "id": "5b9a926c",
   "metadata": {},
   "outputs": [],
   "source": [
    "df['cloud_afternoon'] = (df['description'].str.contains('Partly cloudy throughout the day') |\n",
    "                         df['description'].str.contains('Becoming cloudy in the afternoon') |\n",
    "                         df['description'].str.contains('Cloudy skies throughout the day')\n",
    "                        ).astype(int)"
   ]
  },
  {
   "cell_type": "code",
   "execution_count": null,
   "id": "c574d982",
   "metadata": {},
   "outputs": [],
   "source": [
    "df['clear_morning'] = (df['description'].str.contains('Clear conditions throughout the day.') |\n",
    "                      df['description'].str.contains('Becoming cloudy in the afternoon.')\n",
    "                     ).astype(int)"
   ]
  },
  {
   "cell_type": "code",
   "execution_count": null,
   "id": "e2145a41",
   "metadata": {},
   "outputs": [],
   "source": [
    "df['clear_afternoon'] = (df['description'].str.contains('Clear conditions throughout the day') |\n",
    "                        df['description'].str.contains('Clearing in the afternoon')\n",
    "                       ).astype(int)"
   ]
  },
  {
   "cell_type": "markdown",
   "id": "7b08742c",
   "metadata": {},
   "source": [
    "Delete the old atributes because they do not have any Data that we do not have now"
   ]
  },
  {
   "cell_type": "code",
   "execution_count": null,
   "id": "e998085c",
   "metadata": {},
   "outputs": [],
   "source": [
    "df.drop(['conditions'], inplace = True, axis = 1)  # apaga-mos a coluna 'conditions'  pois já temos essa informação\n",
    "df.drop(['description'], inplace = True, axis = 1) # apaga-mos a coluna 'description' pois já temos essa informação\n",
    "df.drop(['icon'], inplace = True, axis = 1)        # apaga-mos a coluna 'icon'        pois já temos essa informação"
   ]
  },
  {
   "cell_type": "markdown",
   "id": "35f64eaa",
   "metadata": {},
   "source": [
    "Realise that the atributes: precipprob and (rain_morning and rain_afternoon) give us the same Data but in diferent forms"
   ]
  },
  {
   "cell_type": "code",
   "execution_count": null,
   "id": "f2746106",
   "metadata": {},
   "outputs": [],
   "source": [
    "# analise do atributo precipprob\n",
    "print ( df['precipprob'].describe() )\n",
    "print(\"-------------------------------------------------------------------------------------------\")\n",
    "print ( df['precipprob'].value_counts() )\n",
    "print(\"-------------------------------------------------------------------------------------------\")\n",
    "print(df['precipprob'])\n",
    "# vemos que é um atributo que é ou 0 ou 100, para dizer se chove ou não logo como já temos as \n",
    "#colunas rain_morning and rain_afternoon concluimos que ele é inutil"
   ]
  },
  {
   "cell_type": "markdown",
   "id": "11ee72b2",
   "metadata": {},
   "source": [
    "Delete the atribute precipprob"
   ]
  },
  {
   "cell_type": "code",
   "execution_count": null,
   "id": "a7b9f36c",
   "metadata": {},
   "outputs": [],
   "source": [
    "df.drop(['precipprob'], inplace = True, axis = 1) # apaga-mos a coluna 'precipprob'  pois já temos essa informação"
   ]
  },
  {
   "cell_type": "markdown",
   "id": "816f4302",
   "metadata": {},
   "source": [
    "Verificie all of our changes"
   ]
  },
  {
   "cell_type": "code",
   "execution_count": null,
   "id": "78727455",
   "metadata": {},
   "outputs": [],
   "source": [
    "df.head()"
   ]
  },
  {
   "cell_type": "markdown",
   "id": "5d6694ee",
   "metadata": {},
   "source": [
    "5.Check if you can't get more data"
   ]
  },
  {
   "cell_type": "markdown",
   "id": "d8d1b1a0",
   "metadata": {},
   "source": [
    "Realise that we can extract more relevant data from the atribute winddir "
   ]
  },
  {
   "cell_type": "code",
   "execution_count": null,
   "id": "25c5d677",
   "metadata": {},
   "outputs": [],
   "source": [
    "# analise do atributo winddir\n",
    "print ( df['winddir'].describe() )\n",
    "print(\"-------------------------------------------------------------------------------------------\")\n",
    "print ( df['winddir'].value_counts() )\n",
    "print(\"-------------------------------------------------------------------------------------------\")\n",
    "print(df['winddir'].nunique())\n",
    "print(\"-------------------------------------------------------------------------------------------\")\n",
    "print(df['winddir'])\n",
    "# este é o atributo que nos dá a direção do vento em float"
   ]
  },
  {
   "cell_type": "markdown",
   "id": "1a940bf6",
   "metadata": {},
   "source": [
    "This is the atribute that give us the direcion of the wind on a float\n",
    "\n",
    "\n",
    "This atribute was manny unique values, so whoud me better if we had the catgoric direcions: north, northeast, north-northeast, east-northeast, east, east-southeast, southeast, south, south-southeast, southwest, south-southwest, west-southwest, west, west-northwest, northwest, north-northwest, north-northeast"
   ]
  },
  {
   "cell_type": "code",
   "execution_count": null,
   "id": "a3a0884f",
   "metadata": {},
   "outputs": [],
   "source": [
    "#função que categorira a direção do vento\n",
    "def categorize_wind_direction(wind_direction):\n",
    "    \n",
    "    categories = [\"north\", \"northeast\",\"north-northeast\",\"east-northeast\",\"east\",\"east-southeast\",\n",
    "                  \"southeast\", \"south\",\"south-southeast\", \"southwest\", \"south-southwest\" ,\"west-southwest\",\n",
    "                  \"west\", \"west-northwest\" ,\"northwest\",\"north-northwest\", \"north-northeast\"]\n",
    "    \n",
    "    index = round( (wind_direction % 360) / 22.5) % 16\n",
    "    return categories[index]\n",
    "\n",
    "# Aplicar a função à coluna 'winddir'\n",
    "df['winddir'] = df['winddir'].apply(categorize_wind_direction)\n",
    "\n",
    "# categorizar o atributo\n",
    "df['winddir'] = df['winddir'].astype('category')"
   ]
  },
  {
   "cell_type": "markdown",
   "id": "cbea643f",
   "metadata": {},
   "source": [
    "Now we shoud extract all of this catgories and creat new binary atributes"
   ]
  },
  {
   "cell_type": "code",
   "execution_count": null,
   "id": "5f073d8d",
   "metadata": {},
   "outputs": [],
   "source": [
    "from sklearn.preprocessing import LabelBinarizer\n",
    "\n",
    "lb = LabelBinarizer()\n",
    "\n",
    "lb_results = lb.fit_transform(df['winddir'])\n",
    "\n",
    "df_lb_results = pd.DataFrame(lb_results,columns = lb.classes_)\n",
    "\n",
    "df = pd.concat([df, df_lb_results], axis = 1)\n",
    "\n",
    "# estamos a criar os novos atributos binários consuante as categorias de winddir"
   ]
  },
  {
   "cell_type": "markdown",
   "id": "eca31dd2",
   "metadata": {},
   "source": [
    "Delete the atribute winddir"
   ]
  },
  {
   "cell_type": "code",
   "execution_count": null,
   "id": "4a980590",
   "metadata": {},
   "outputs": [],
   "source": [
    "df.drop(['winddir'], inplace = True, axis = 1) # apaga-mos a coluna 'winddir'  pois já temos essa informação"
   ]
  },
  {
   "cell_type": "markdown",
   "id": "00e60fe6",
   "metadata": {},
   "source": [
    "Realise that we can extract more relevant data from the atribute stacions"
   ]
  },
  {
   "cell_type": "code",
   "execution_count": null,
   "id": "1a163cce",
   "metadata": {},
   "outputs": [],
   "source": [
    "# analise do atributo stacions\n",
    "print ( df['stations'].describe() )\n",
    "print(\"-------------------------------------------------------------------------------------------\")\n",
    "print ( df['stations'].value_counts() )\n",
    "print(\"-------------------------------------------------------------------------------------------\")\n",
    "print(df['stations'])\n",
    "\n",
    "# este é um atributo que nos dá qual foi a estação meteriológica que registou os valores"
   ]
  },
  {
   "cell_type": "markdown",
   "id": "58569592",
   "metadata": {},
   "source": [
    "Let as creat new atributes from the old atribute stacions"
   ]
  },
  {
   "cell_type": "code",
   "execution_count": null,
   "id": "de152c48",
   "metadata": {},
   "outputs": [],
   "source": [
    "# Criar uma lista única de todas as estações\n",
    "all_stations = set(','.join(df['stations']).split(','))\n",
    "\n",
    "# Criar colunas binárias para cada estação\n",
    "for station in all_stations:\n",
    "    df[station] = df['stations'].apply(lambda x: int(station in x))"
   ]
  },
  {
   "cell_type": "markdown",
   "id": "23c8a087",
   "metadata": {},
   "source": [
    "Delete the the atribute stations"
   ]
  },
  {
   "cell_type": "code",
   "execution_count": null,
   "id": "7ea32d57",
   "metadata": {},
   "outputs": [],
   "source": [
    "df = df.drop('stations', axis=1)# apaga-mos a coluna 'stations'  pois já temos essa informação"
   ]
  },
  {
   "cell_type": "markdown",
   "id": "51106de8",
   "metadata": {},
   "source": [
    "Verifie that the new atributs 08534099999, 08536099999, LPPT and only have one value"
   ]
  },
  {
   "cell_type": "code",
   "execution_count": null,
   "id": "77ba264e",
   "metadata": {},
   "outputs": [],
   "source": [
    "# analise do atributo 08534099999\n",
    "print ( df['08534099999'].describe() )\n",
    "print(\"-------------------------------------------------------------------------------------------\")\n",
    "print ( df['08534099999'].value_counts() )\n",
    "print(\"-------------------------------------------------------------------------------------------\")\n",
    "print(df['08534099999'].nunique())"
   ]
  },
  {
   "cell_type": "code",
   "execution_count": null,
   "id": "6b6c340b",
   "metadata": {},
   "outputs": [],
   "source": [
    "# analise do atributo 08536099999\n",
    "print ( df['08536099999'].describe() )\n",
    "print(\"-------------------------------------------------------------------------------------------\")\n",
    "print ( df['08536099999'].value_counts() )\n",
    "print(\"-------------------------------------------------------------------------------------------\")\n",
    "print(df['08536099999'].nunique())"
   ]
  },
  {
   "cell_type": "code",
   "execution_count": null,
   "id": "8d3924cc",
   "metadata": {},
   "outputs": [],
   "source": [
    "# analise do atributo LPPT\n",
    "print ( df['LPPT'].describe() )\n",
    "print(\"-------------------------------------------------------------------------------------------\")\n",
    "print ( df['LPPT'].value_counts() )\n",
    "print(\"-------------------------------------------------------------------------------------------\")\n",
    "print(df['LPPT'].nunique())"
   ]
  },
  {
   "cell_type": "markdown",
   "id": "b6e17cbf",
   "metadata": {},
   "source": [
    "Drop all of the atributes whith one value"
   ]
  },
  {
   "cell_type": "code",
   "execution_count": null,
   "id": "c8a20ed3",
   "metadata": {},
   "outputs": [],
   "source": [
    "df = df.drop('08534099999', axis=1)# apaga-mos a coluna '08534099999'  pois já temos essa informação\n",
    "df = df.drop('08536099999', axis=1)# apaga-mos a coluna '08536099999'  pois já temos essa informação\n",
    "df = df.drop('LPPT', axis=1)       # apaga-mos a coluna 'LPPT'         pois já temos essa informação"
   ]
  },
  {
   "cell_type": "markdown",
   "id": "e67807a4",
   "metadata": {},
   "source": [
    "Verificie all of our changes"
   ]
  },
  {
   "cell_type": "code",
   "execution_count": null,
   "id": "0befc8ae",
   "metadata": {},
   "outputs": [],
   "source": [
    "df.head()"
   ]
  },
  {
   "cell_type": "markdown",
   "id": "6e11c14c",
   "metadata": {},
   "source": [
    "6.Check if we shoud bind the atributes"
   ]
  },
  {
   "cell_type": "code",
   "execution_count": null,
   "id": "631972d3",
   "metadata": {},
   "outputs": [],
   "source": [
    "df.unique()"
   ]
  },
  {
   "cell_type": "markdown",
   "id": "7121eaf5",
   "metadata": {},
   "source": [
    "Realise that we shoud bin humidity and cloudcover beacause of the large unique values quantity"
   ]
  },
  {
   "cell_type": "code",
   "execution_count": null,
   "id": "24447f6a",
   "metadata": {},
   "outputs": [],
   "source": [
    "# analise do atributo humidity\n",
    "print ( df['humidity'].describe() )\n",
    "print(\"-------------------------------------------------------------------------------------------\")\n",
    "print(df['humidity'].value_counts())\n",
    "print(\"-------------------------------------------------------------------------------------------\")\n",
    "print(df['humidity'].nunique())"
   ]
  },
  {
   "cell_type": "code",
   "execution_count": null,
   "id": "45dfaae9",
   "metadata": {},
   "outputs": [],
   "source": [
    "# analise do atributo cloudcover\n",
    "print ( df['cloudcover'].describe() )\n",
    "print(\"-------------------------------------------------------------------------------------------\")\n",
    "print(df['cloudcover'].value_counts())\n",
    "print(\"-------------------------------------------------------------------------------------------\")\n",
    "print(df['cloudcover'].nunique())"
   ]
  },
  {
   "cell_type": "markdown",
   "id": "48e86a9d",
   "metadata": {},
   "source": [
    "Bind the atribute humidity"
   ]
  },
  {
   "cell_type": "code",
   "execution_count": null,
   "id": "5b40e634",
   "metadata": {},
   "outputs": [],
   "source": [
    "# Função para fazer o binning\n",
    "def bin_humidity(value):\n",
    "    decimal_part = value - int(value)\n",
    "    \n",
    "    if decimal_part <= 0.2:\n",
    "        return math.floor(value)\n",
    "    elif 0.3 <= decimal_part <= 0.6:\n",
    "        return int(value) + 0.5\n",
    "    else:\n",
    "        return math.ceil(value)\n",
    "\n",
    "# Aplicar a função à coluna 'humidity'\n",
    "df['humidity'] = df['humidity'].apply(bin_solar_energy)\n",
    "\n",
    "# Categorizar os valores numéricos\n",
    "df['humidity'] = df['humidity'].astype('category')"
   ]
  },
  {
   "cell_type": "markdown",
   "id": "192a172b",
   "metadata": {},
   "source": [
    "Bind the atribute cloudcover"
   ]
  },
  {
   "cell_type": "code",
   "execution_count": null,
   "id": "bfc781dd",
   "metadata": {},
   "outputs": [],
   "source": [
    "# Função para fazer o binning\n",
    "def bin_cloudcover(value):\n",
    "    decimal_part = value - int(value)\n",
    "    \n",
    "    if decimal_part <= 0.2:\n",
    "        return math.floor(value)\n",
    "    elif 0.3 <= decimal_part <= 0.6:\n",
    "        return int(value) + 0.5\n",
    "    else:\n",
    "        return math.ceil(value)\n",
    "\n",
    "# Aplicar a função à coluna 'cloudcover'\n",
    "df['cloudcover'] = df['cloudcover'].apply(bin_solar_energy)\n",
    "\n",
    "# Categorizar os valores numéricos\n",
    "df['cloudcover'] = df['cloudcover'].astype('category')"
   ]
  },
  {
   "cell_type": "markdown",
   "id": "faa90cd1",
   "metadata": {},
   "source": [
    "Verificie all of our changes"
   ]
  },
  {
   "cell_type": "code",
   "execution_count": null,
   "id": "5a10c59a",
   "metadata": {},
   "outputs": [],
   "source": [
    "df.head()"
   ]
  },
  {
   "cell_type": "markdown",
   "id": "158a2679",
   "metadata": {},
   "source": [
    "7.Check the correlation of the atributes"
   ]
  },
  {
   "cell_type": "code",
   "execution_count": null,
   "id": "65587a62",
   "metadata": {},
   "outputs": [],
   "source": [
    "corr_matrix = df.corr()\n",
    "f,ax =  plt.subplots(figsize = (100,100))\n",
    "sns.heatmap(corr_matrix, vmin=-1, vmax=1, annot=True, square=True)"
   ]
  },
  {
   "cell_type": "markdown",
   "id": "f71eefcd",
   "metadata": {},
   "source": [
    "Realise that the correlation of the atributes: feelslikemin, feelslikemax and feelslike have a hight correlacion betten them and temp"
   ]
  },
  {
   "cell_type": "code",
   "execution_count": null,
   "id": "cd8bee6e",
   "metadata": {},
   "outputs": [],
   "source": [
    "sns.set_style(\"whitegrid\")\n",
    "sns.jointplot(x= 'temp', y= 'feelslikemax', data=df, kind='scatter')"
   ]
  },
  {
   "cell_type": "code",
   "execution_count": null,
   "id": "6ed6bd4e",
   "metadata": {},
   "outputs": [],
   "source": [
    "sns.set_style(\"whitegrid\")\n",
    "sns.jointplot(x= 'temp', y= 'feelslike', data=df, kind='scatter')"
   ]
  },
  {
   "cell_type": "code",
   "execution_count": null,
   "id": "51d090ad",
   "metadata": {},
   "outputs": [],
   "source": [
    "sns.set_style(\"whitegrid\")\n",
    "sns.jointplot(x= 'temp', y= 'feelslikemin', data=df, kind='scatter')"
   ]
  },
  {
   "cell_type": "markdown",
   "id": "6c60c519",
   "metadata": {},
   "source": [
    "Realise that the correlation of the atributes: feelslikemin, feelslikemax and feelslike have a hight correlacion betten them and tempmax"
   ]
  },
  {
   "cell_type": "code",
   "execution_count": null,
   "id": "6da882be",
   "metadata": {},
   "outputs": [],
   "source": [
    "sns.set_style(\"whitegrid\")\n",
    "sns.jointplot(x= 'tempmax', y= 'feelslikemax', data=df, kind='scatter')"
   ]
  },
  {
   "cell_type": "code",
   "execution_count": null,
   "id": "ead0208f",
   "metadata": {},
   "outputs": [],
   "source": [
    "sns.set_style(\"whitegrid\")\n",
    "sns.jointplot(x= 'tempmax', y= 'feelslikemin', data=df, kind='scatter')"
   ]
  },
  {
   "cell_type": "code",
   "execution_count": null,
   "id": "5d917179",
   "metadata": {},
   "outputs": [],
   "source": [
    "sns.set_style(\"whitegrid\")\n",
    "sns.jointplot(x= 'tempmax', y= 'feelslike', data=df, kind='scatter')"
   ]
  },
  {
   "cell_type": "markdown",
   "id": "f916cd44",
   "metadata": {},
   "source": [
    "Realise that the correlation of the atributes: feelslikemin, feelslikemax and feelslike have a hight correlacion betten them and tempmin"
   ]
  },
  {
   "cell_type": "code",
   "execution_count": null,
   "id": "f7705951",
   "metadata": {},
   "outputs": [],
   "source": [
    "sns.set_style(\"whitegrid\")\n",
    "sns.jointplot(x= 'tempmin', y= 'feelslikemax', data=df, kind='scatter')"
   ]
  },
  {
   "cell_type": "code",
   "execution_count": null,
   "id": "74f20fc0",
   "metadata": {},
   "outputs": [],
   "source": [
    "sns.set_style(\"whitegrid\")\n",
    "sns.jointplot(x= 'tempmin', y= 'feelslikemin', data=df, kind='scatter')"
   ]
  },
  {
   "cell_type": "code",
   "execution_count": null,
   "id": "d31a7fef",
   "metadata": {},
   "outputs": [],
   "source": [
    "sns.set_style(\"whitegrid\")\n",
    "sns.jointplot(x= 'tempmin', y= 'feelslike', data=df, kind='scatter')"
   ]
  },
  {
   "cell_type": "markdown",
   "id": "377b3451",
   "metadata": {},
   "source": [
    "By observing the graphs and the confusion matrix, we concluded that the attributes of feels like and temperature are almost maximum, so we proceeded to eliminate them."
   ]
  },
  {
   "cell_type": "code",
   "execution_count": null,
   "id": "e297125b",
   "metadata": {},
   "outputs": [],
   "source": [
    "df.drop(['feelslikemin'], inplace = True, axis = 1)\n",
    "df.drop(['feelslikemax'], inplace = True, axis = 1)\n",
    "df.drop(['feelslike'], inplace = True, axis = 1)\n",
    "\n",
    "#Por observasão dos gráficos e da matriz de confusão concluimos que os atributos de feels like \n",
    "# e a temperatura são quase maximos logo procedemos á sua eleminação"
   ]
  },
  {
   "cell_type": "markdown",
   "id": "5089a62b",
   "metadata": {},
   "source": [
    "Realise that the correlation of the atribute temp have a hight correlacion betten them tempmin and tempmax"
   ]
  },
  {
   "cell_type": "code",
   "execution_count": null,
   "id": "c39f4239",
   "metadata": {},
   "outputs": [],
   "source": [
    "sns.set_style(\"whitegrid\")\n",
    "sns.jointplot(x= 'temp', y= 'tempmin', data=df, kind='scatter')"
   ]
  },
  {
   "cell_type": "code",
   "execution_count": null,
   "id": "3926d7a1",
   "metadata": {},
   "outputs": [],
   "source": [
    "sns.set_style(\"whitegrid\")\n",
    "sns.jointplot(x= 'temp', y= 'tempmax', data=df, kind='scatter')"
   ]
  },
  {
   "cell_type": "markdown",
   "id": "145b05c3",
   "metadata": {},
   "source": [
    "For the same reason as before we shall delete the atribut temp"
   ]
  },
  {
   "cell_type": "code",
   "execution_count": null,
   "id": "cf255fa1",
   "metadata": {},
   "outputs": [],
   "source": [
    "df.drop(['temp'], inplace = True, axis = 1)"
   ]
  },
  {
   "cell_type": "markdown",
   "id": "a71ffe68",
   "metadata": {},
   "source": [
    "Realise that the correlation of the atributes solarradiation and uvindex have a hight correlacion betten them solarenergy"
   ]
  },
  {
   "cell_type": "code",
   "execution_count": null,
   "id": "cec412e3",
   "metadata": {},
   "outputs": [],
   "source": [
    "sns.set_style(\"whitegrid\")\n",
    "sns.jointplot(x= 'solarradiation', y= 'solarenergy', data=df, kind='scatter')"
   ]
  },
  {
   "cell_type": "code",
   "execution_count": null,
   "id": "18e8a5bc",
   "metadata": {},
   "outputs": [],
   "source": [
    "sns.set_style(\"whitegrid\")\n",
    "sns.jointplot(x= 'uvindex', y= 'solarenergy', data=df, kind='scatter')"
   ]
  },
  {
   "cell_type": "markdown",
   "id": "2dae2c78",
   "metadata": {},
   "source": [
    "Once again for the same reasons we will eliminate the solarradiation uvindex and attributes"
   ]
  },
  {
   "cell_type": "code",
   "execution_count": null,
   "id": "7105d333",
   "metadata": {},
   "outputs": [],
   "source": [
    "df.drop(['solarradiation'], inplace = True, axis = 1)\n",
    "df.drop(['uvindex'], inplace = True, axis = 1)"
   ]
  },
  {
   "cell_type": "markdown",
   "id": "09f3946d",
   "metadata": {},
   "source": [
    "By observing the correlation matrix we can see that clear_morning and cloud_morning have a correlation factor of -1, that is, when one goes up the other goes down, that is, we can remove one of them. The same reasoning can be said for the clear_afternoon and cloud_afternoon attributes."
   ]
  },
  {
   "cell_type": "code",
   "execution_count": null,
   "id": "cdbbd5c7",
   "metadata": {},
   "outputs": [],
   "source": [
    "df.drop(['clear_morning'], inplace = True, axis = 1)\n",
    "df.drop(['clear_afternoon'], inplace = True, axis = 1)\n",
    "\n",
    "#Pela observação da matriz de correlação conseguimos observar que o clear_morning e cloud_morning \n",
    "#têm um fator de correlação de -1 ou seja quando um sobe o outro desce ou seja podemos retirar um deles o mesmo racioncinio \n",
    "#pode ser dito para os atributos clear_afternoon e cloud_afternoon"
   ]
  },
  {
   "cell_type": "markdown",
   "id": "9bf63f8a",
   "metadata": {},
   "source": [
    "Verificie all of our changes"
   ]
  },
  {
   "cell_type": "code",
   "execution_count": null,
   "id": "73b75908",
   "metadata": {},
   "outputs": [],
   "source": [
    "df.head()"
   ]
  },
  {
   "cell_type": "markdown",
   "id": "0b4641ca",
   "metadata": {},
   "source": [
    "Let as check the the new correlacion matrix"
   ]
  },
  {
   "cell_type": "code",
   "execution_count": null,
   "id": "b578fc3d",
   "metadata": {},
   "outputs": [],
   "source": [
    "corr_matrix = df.corr()\n",
    "f,ax =  plt.subplots(figsize = (100,100))\n",
    "sns.heatmap(corr_matrix, vmin=-1, vmax=1, annot=True, square=True)"
   ]
  },
  {
   "cell_type": "markdown",
   "id": "8c2f6eca",
   "metadata": {},
   "source": [
    "8.Normalise every single thing to prevent diferent oder number interfiring whith our model"
   ]
  },
  {
   "cell_type": "code",
   "execution_count": null,
   "id": "2a74d26c",
   "metadata": {},
   "outputs": [],
   "source": [
    "from sklearn.preprocessing import MinMaxScaler\n",
    "scaler_X = MinMaxScaler(feature_range=(0,1)).fit(df)\n",
    "df = pd.DataFrame(scaler_X.transform(df[df.columns]), columns = df.columns)"
   ]
  },
  {
   "cell_type": "markdown",
   "id": "0b4f94c2",
   "metadata": {},
   "source": [
    "Verificie all of our changes"
   ]
  },
  {
   "cell_type": "code",
   "execution_count": null,
   "id": "37b4a690",
   "metadata": {},
   "outputs": [],
   "source": [
    "df.head()"
   ]
  },
  {
   "cell_type": "markdown",
   "id": "1876ff42",
   "metadata": {},
   "source": [
    "Models time"
   ]
  },
  {
   "cell_type": "code",
   "execution_count": 4,
   "id": "ccd82fa2",
   "metadata": {},
   "outputs": [
    {
     "ename": "NameError",
     "evalue": "name 'df' is not defined",
     "output_type": "error",
     "traceback": [
      "\u001b[1;31m---------------------------------------------------------------------------\u001b[0m",
      "\u001b[1;31mNameError\u001b[0m                                 Traceback (most recent call last)",
      "Cell \u001b[1;32mIn[4], line 1\u001b[0m\n\u001b[1;32m----> 1\u001b[0m X \u001b[38;5;241m=\u001b[39m \u001b[43mdf\u001b[49m[[\u001b[38;5;124m'\u001b[39m\u001b[38;5;124mtempmax\u001b[39m\u001b[38;5;124m'\u001b[39m,\u001b[38;5;124m'\u001b[39m\u001b[38;5;124mtempmin\u001b[39m\u001b[38;5;124m'\u001b[39m,\n\u001b[0;32m      2\u001b[0m      \u001b[38;5;124m'\u001b[39m\u001b[38;5;124mdew\u001b[39m\u001b[38;5;124m'\u001b[39m,\u001b[38;5;124m'\u001b[39m\u001b[38;5;124mhumidity\u001b[39m\u001b[38;5;124m'\u001b[39m,\u001b[38;5;124m'\u001b[39m\u001b[38;5;124mprecip\u001b[39m\u001b[38;5;124m'\u001b[39m,\u001b[38;5;124m'\u001b[39m\u001b[38;5;124mprecipcover\u001b[39m\u001b[38;5;124m'\u001b[39m,\n\u001b[0;32m      3\u001b[0m      \u001b[38;5;124m'\u001b[39m\u001b[38;5;124mwindgust\u001b[39m\u001b[38;5;124m'\u001b[39m,\u001b[38;5;124m'\u001b[39m\u001b[38;5;124mwindspeed\u001b[39m\u001b[38;5;124m'\u001b[39m,\u001b[38;5;124m'\u001b[39m\u001b[38;5;124msealevelpressure\u001b[39m\u001b[38;5;124m'\u001b[39m,\u001b[38;5;124m'\u001b[39m\u001b[38;5;124mcloudcover\u001b[39m\u001b[38;5;124m'\u001b[39m,\u001b[38;5;124m'\u001b[39m\u001b[38;5;124mvisibility\u001b[39m\u001b[38;5;124m'\u001b[39m,\n\u001b[0;32m      4\u001b[0m      \u001b[38;5;124m'\u001b[39m\u001b[38;5;124msevererisk\u001b[39m\u001b[38;5;124m'\u001b[39m, \u001b[38;5;124m'\u001b[39m\u001b[38;5;124mmoonphase\u001b[39m\u001b[38;5;124m'\u001b[39m,\u001b[38;5;124m'\u001b[39m\u001b[38;5;124mDay\u001b[39m\u001b[38;5;124m'\u001b[39m,\u001b[38;5;124m'\u001b[39m\u001b[38;5;124mMonth\u001b[39m\u001b[38;5;124m'\u001b[39m,\n\u001b[0;32m      5\u001b[0m      \u001b[38;5;124m'\u001b[39m\u001b[38;5;124mhour_rise\u001b[39m\u001b[38;5;124m'\u001b[39m,\u001b[38;5;124m'\u001b[39m\u001b[38;5;124mminute_rise\u001b[39m\u001b[38;5;124m'\u001b[39m,\u001b[38;5;124m'\u001b[39m\u001b[38;5;124msecond_rise\u001b[39m\u001b[38;5;124m'\u001b[39m,\u001b[38;5;124m'\u001b[39m\u001b[38;5;124mhour_set\u001b[39m\u001b[38;5;124m'\u001b[39m,\u001b[38;5;124m'\u001b[39m\u001b[38;5;124mminute_set\u001b[39m\u001b[38;5;124m'\u001b[39m,\u001b[38;5;124m'\u001b[39m\u001b[38;5;124msecond_set\u001b[39m\u001b[38;5;124m'\u001b[39m,\n\u001b[0;32m      6\u001b[0m      \u001b[38;5;124m'\u001b[39m\u001b[38;5;124mrain_morning\u001b[39m\u001b[38;5;124m'\u001b[39m,\u001b[38;5;124m'\u001b[39m\u001b[38;5;124mrain_afternoon\u001b[39m\u001b[38;5;124m'\u001b[39m,\u001b[38;5;124m'\u001b[39m\u001b[38;5;124mcloud_morning\u001b[39m\u001b[38;5;124m'\u001b[39m,\u001b[38;5;124m'\u001b[39m\u001b[38;5;124mcloud_afternoon\u001b[39m\u001b[38;5;124m'\u001b[39m,\n\u001b[0;32m      7\u001b[0m      \u001b[38;5;124m'\u001b[39m\u001b[38;5;124mD7126\u001b[39m\u001b[38;5;124m'\u001b[39m, \u001b[38;5;124m'\u001b[39m\u001b[38;5;124m08532099999\u001b[39m\u001b[38;5;124m'\u001b[39m, \u001b[38;5;124m'\u001b[39m\u001b[38;5;124m08535099999\u001b[39m\u001b[38;5;124m'\u001b[39m, \u001b[38;5;124m'\u001b[39m\u001b[38;5;124mnorth\u001b[39m\u001b[38;5;124m'\u001b[39m,\u001b[38;5;124m'\u001b[39m\u001b[38;5;124mnorth-northwest\u001b[39m\u001b[38;5;124m'\u001b[39m,\u001b[38;5;124m'\u001b[39m\u001b[38;5;124meast-southeast\u001b[39m\u001b[38;5;124m'\u001b[39m,\u001b[38;5;124m'\u001b[39m\u001b[38;5;124mnorthwest\u001b[39m\u001b[38;5;124m'\u001b[39m,\u001b[38;5;124m'\u001b[39m\u001b[38;5;124msouth-southwest\u001b[39m\u001b[38;5;124m'\u001b[39m,\n\u001b[0;32m      8\u001b[0m      \u001b[38;5;124m'\u001b[39m\u001b[38;5;124mwest-southwest\u001b[39m\u001b[38;5;124m'\u001b[39m,\u001b[38;5;124m'\u001b[39m\u001b[38;5;124mwest\u001b[39m\u001b[38;5;124m'\u001b[39m,\u001b[38;5;124m'\u001b[39m\u001b[38;5;124mnorth-northeast\u001b[39m\u001b[38;5;124m'\u001b[39m,\u001b[38;5;124m'\u001b[39m\u001b[38;5;124mwest-northwest\u001b[39m\u001b[38;5;124m'\u001b[39m,\u001b[38;5;124m'\u001b[39m\u001b[38;5;124mnortheast\u001b[39m\u001b[38;5;124m'\u001b[39m,\u001b[38;5;124m'\u001b[39m\u001b[38;5;124msouthwest\u001b[39m\u001b[38;5;124m'\u001b[39m,\u001b[38;5;124m'\u001b[39m\u001b[38;5;124msouth-southeast\u001b[39m\u001b[38;5;124m'\u001b[39m,\n\u001b[0;32m      9\u001b[0m      \u001b[38;5;124m'\u001b[39m\u001b[38;5;124meast-northeast\u001b[39m\u001b[38;5;124m'\u001b[39m,\u001b[38;5;124m'\u001b[39m\u001b[38;5;124msouth\u001b[39m\u001b[38;5;124m'\u001b[39m,\u001b[38;5;124m'\u001b[39m\u001b[38;5;124meast\u001b[39m\u001b[38;5;124m'\u001b[39m]]\n",
      "\u001b[1;31mNameError\u001b[0m: name 'df' is not defined"
     ]
    }
   ],
   "source": [
    "X = df[['tempmax','tempmin',\n",
    "     'dew','humidity','precip','precipcover',\n",
    "     'windgust','windspeed','sealevelpressure','cloudcover','visibility',\n",
    "     'severerisk', 'moonphase','Day','Month',\n",
    "     'hour_rise','minute_rise','second_rise','hour_set','minute_set','second_set',\n",
    "     'rain_morning','rain_afternoon','cloud_morning','cloud_afternoon',\n",
    "     'D7126', '08532099999', '08535099999', 'north','north-northwest','east-southeast','northwest','south-southwest',\n",
    "     'west-southwest','west','north-northeast','west-northwest','northeast','southwest','south-southeast',\n",
    "     'east-northeast','south','east']]"
   ]
  },
  {
   "cell_type": "code",
   "execution_count": null,
   "id": "394a1d08",
   "metadata": {},
   "outputs": [],
   "source": [
    "y = df['solarenergy']"
   ]
  },
  {
   "cell_type": "code",
   "execution_count": null,
   "id": "c5b9e466",
   "metadata": {},
   "outputs": [],
   "source": [
    "from sklearn.model_selection import train_test_split\n",
    "\n",
    "X_train, X_test, y_train, y_test = train_test_split(X, y, test_size=0.25, random_state=5)"
   ]
  },
  {
   "cell_type": "code",
   "execution_count": null,
   "id": "53ad727d",
   "metadata": {},
   "outputs": [],
   "source": [
    "\n",
    "kf = KFold(n_splits = 5, shuffle = True, random_state = 2021)"
   ]
  }
 ],
 "metadata": {
  "kernelspec": {
   "display_name": "Python 3 (ipykernel)",
   "language": "python",
   "name": "python3"
  },
  "language_info": {
   "codemirror_mode": {
    "name": "ipython",
    "version": 3
   },
   "file_extension": ".py",
   "mimetype": "text/x-python",
   "name": "python",
   "nbconvert_exporter": "python",
   "pygments_lexer": "ipython3",
   "version": "3.10.0"
  }
 },
 "nbformat": 4,
 "nbformat_minor": 5
}
