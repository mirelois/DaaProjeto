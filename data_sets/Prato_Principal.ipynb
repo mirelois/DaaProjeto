{
 "cells": [
  {
   "cell_type": "code",
   "execution_count": null,
   "id": "59e84d2c",
   "metadata": {},
   "outputs": [],
   "source": [
    "import sklearn as skl\n",
    "import pandas as pd\n",
    "import matplotlib.pyplot as plt\n",
    "import seaborn as sns\n",
    "from sklearn import preprocessing\n",
    "import numpy as np\n",
    "import math "
   ]
  },
  {
   "cell_type": "markdown",
   "id": "b4cc978c",
   "metadata": {},
   "source": [
    "Check out the Data"
   ]
  },
  {
   "cell_type": "code",
   "execution_count": null,
   "id": "73562ce4",
   "metadata": {},
   "outputs": [],
   "source": [
    "df = pd.read_csv(\"Portugal 2022-08-01 to 2023-08-01.csv\", na_filter = True)"
   ]
  },
  {
   "cell_type": "code",
   "execution_count": null,
   "id": "fc4286db",
   "metadata": {},
   "outputs": [],
   "source": [
    "df.info()"
   ]
  },
  {
   "cell_type": "code",
   "execution_count": null,
   "id": "6989eefc",
   "metadata": {},
   "outputs": [],
   "source": [
    "df.columns"
   ]
  },
  {
   "cell_type": "code",
   "execution_count": null,
   "id": "380e7e76",
   "metadata": {},
   "outputs": [],
   "source": [
    "df.head()"
   ]
  },
  {
   "cell_type": "code",
   "execution_count": null,
   "id": "02bfa83f",
   "metadata": {},
   "outputs": [],
   "source": [
    "df.describe()"
   ]
  },
  {
   "cell_type": "code",
   "execution_count": null,
   "id": "b129b4fb",
   "metadata": {},
   "outputs": [],
   "source": [
    "df.nunique()"
   ]
  },
  {
   "cell_type": "markdown",
   "id": "b13f47d4",
   "metadata": {},
   "source": [
    "Exploratory Data Analysis"
   ]
  },
  {
   "cell_type": "markdown",
   "id": "42d55a4c",
   "metadata": {},
   "source": [
    "1.Check for Duplicates"
   ]
  },
  {
   "cell_type": "code",
   "execution_count": null,
   "id": "79911167",
   "metadata": {},
   "outputs": [],
   "source": [
    "# ver se existem linhas duplicadas se sim apager se não não fazer nada\n",
    "print ( df.duplicated().sum() )"
   ]
  },
  {
   "cell_type": "markdown",
   "id": "b2d90884",
   "metadata": {},
   "source": [
    "Do nothing"
   ]
  },
  {
   "cell_type": "markdown",
   "id": "c573d9bb",
   "metadata": {},
   "source": [
    "2.Check for missing Data"
   ]
  },
  {
   "cell_type": "code",
   "execution_count": null,
   "id": "a9ef0d6a",
   "metadata": {},
   "outputs": [],
   "source": [
    "# ver se existem celulas vazias e se existirem temos de decidir preencher ou apagalas\n",
    "sns.heatmap(df.isnull(),yticklabels= False,  cbar = False, cmap = 'viridis')"
   ]
  },
  {
   "cell_type": "markdown",
   "id": "a39bcd84",
   "metadata": {},
   "source": [
    "Analise the atribute to decide what to do"
   ]
  },
  {
   "cell_type": "code",
   "execution_count": null,
   "id": "3040f32f",
   "metadata": {},
   "outputs": [],
   "source": [
    "# analisar a coluna preciptype e tentar chegar a uma decisão em o que fazer\n",
    "print(df['preciptype'])\n",
    "print('\\n')\n",
    "print ( df['preciptype'].describe() )\n",
    "print('\\n')\n",
    "print ( df['preciptype'].value_counts() )"
   ]
  },
  {
   "cell_type": "markdown",
   "id": "8ad55b65",
   "metadata": {},
   "source": [
    "Desicion: Delete the colum was our decision because there were too manny black spaces"
   ]
  },
  {
   "cell_type": "code",
   "execution_count": null,
   "id": "e043bed9",
   "metadata": {},
   "outputs": [],
   "source": [
    "# Decidimos como temos muitas entradas em branco que devemos apagar a coluna\n",
    "\n",
    "df.drop(['preciptype'], inplace = True, axis = 1) # apaga-mos a coluna 'preciptype'"
   ]
  },
  {
   "cell_type": "markdown",
   "id": "7b518b8d",
   "metadata": {},
   "source": [
    "Check there is no more missing data"
   ]
  },
  {
   "cell_type": "code",
   "execution_count": null,
   "id": "422d0ee5",
   "metadata": {},
   "outputs": [],
   "source": [
    "# ver que não existem mais colunas vazias\n",
    "sns.heatmap(df.isnull(),yticklabels= False,  cbar = False, cmap = 'viridis')"
   ]
  },
  {
   "cell_type": "markdown",
   "id": "85630c2f",
   "metadata": {},
   "source": [
    "3.Check for unique Data"
   ]
  },
  {
   "cell_type": "code",
   "execution_count": null,
   "id": "1e470abc",
   "metadata": {},
   "outputs": [],
   "source": [
    "df.nunique()"
   ]
  },
  {
   "cell_type": "markdown",
   "id": "fc0263e3",
   "metadata": {},
   "source": [
    "Realise that the atributes: snow, snowdepth and name are all unique data"
   ]
  },
  {
   "cell_type": "code",
   "execution_count": null,
   "id": "f77b9327",
   "metadata": {},
   "outputs": [],
   "source": [
    "# verificar que na colunas name, snow e snowdepth temos apenas um valor para apagar\n",
    "print ( df['name'].nunique() )\n",
    "print(\"-------------------------------------------------------------------------------------------\")\n",
    "print ( df['snow'].nunique() )\n",
    "print(\"-------------------------------------------------------------------------------------------\")\n",
    "print ( df['snowdepth'].nunique())"
   ]
  },
  {
   "cell_type": "markdown",
   "id": "a0cceded",
   "metadata": {},
   "source": [
    "Alasise if we can extract data from them"
   ]
  },
  {
   "cell_type": "code",
   "execution_count": null,
   "id": "890866b0",
   "metadata": {},
   "outputs": [],
   "source": [
    "print ( df['name'].describe() )# Concluimos que temos apenas um nome ou seja podemos apagar esta coluna pois não trará nada de novo para o modelo\n",
    "print(\"-------------------------------------------------------------------------------------------\")\n",
    "print ( df['snow'].describe() )# Concluios que nunca nevou logo esta coluna é unutil\n",
    "print(\"-------------------------------------------------------------------------------------------\")\n",
    "print ( df['snowdepth'].describe())# Como nunca nevou nunca tivemos profundidade da neve logo esta coluna é unutil"
   ]
  },
  {
   "cell_type": "markdown",
   "id": "d48af76e",
   "metadata": {},
   "source": [
    "Realise that we can not and procide to there delicion"
   ]
  },
  {
   "cell_type": "code",
   "execution_count": null,
   "id": "e91e99a0",
   "metadata": {},
   "outputs": [],
   "source": [
    "df.drop(['name'], inplace = True, axis = 1) # apaga-mos a coluna 'name'\n",
    "df.drop(['snow'], inplace = True, axis = 1) # apaga-mos a coluna 'snow'\n",
    "df.drop(['snowdepth'], inplace = True, axis = 1) # apaga-mos a coluna 'snowdepth'"
   ]
  },
  {
   "cell_type": "markdown",
   "id": "cd266fcd",
   "metadata": {},
   "source": [
    "Verificie that the atributes are gone now"
   ]
  },
  {
   "cell_type": "code",
   "execution_count": null,
   "id": "ee2b898b",
   "metadata": {},
   "outputs": [],
   "source": [
    "df.head()"
   ]
  },
  {
   "cell_type": "markdown",
   "id": "8e399e2f",
   "metadata": {},
   "source": [
    "4.Check for redundant data"
   ]
  },
  {
   "cell_type": "markdown",
   "id": "bb9974a3",
   "metadata": {},
   "source": [
    "Realise that the atributes: sunrise, sunset e datetime give repeated Data"
   ]
  },
  {
   "cell_type": "code",
   "execution_count": null,
   "id": "d0320489",
   "metadata": {},
   "outputs": [],
   "source": [
    "# Analise do atributo sunrise\n",
    "\n",
    "print ( df['sunrise'].describe() )\n",
    "print(\"-------------------------------------------------------------------------------------------\")\n",
    "print ( df['sunrise'].value_counts() )\n",
    "print(\"-------------------------------------------------------------------------------------------\")\n",
    "print(df['sunrise'])"
   ]
  },
  {
   "cell_type": "code",
   "execution_count": null,
   "id": "b05c8456",
   "metadata": {},
   "outputs": [],
   "source": [
    "# Analise do atributo sunset\n",
    "\n",
    "print ( df['sunset'].describe() )\n",
    "print(\"-------------------------------------------------------------------------------------------\")\n",
    "print ( df['sunset'].value_counts() )\n",
    "print(\"-------------------------------------------------------------------------------------------\")\n",
    "print(df['sunset'])"
   ]
  },
  {
   "cell_type": "code",
   "execution_count": null,
   "id": "2c9a351d",
   "metadata": {},
   "outputs": [],
   "source": [
    "# Analise do atributo datetime\n",
    "\n",
    "print ( df['datetime'].describe() )\n",
    "print(\"-------------------------------------------------------------------------------------------\")\n",
    "print ( df['datetime'].value_counts() )\n",
    "print(\"-------------------------------------------------------------------------------------------\")\n",
    "print(df['datetime'])"
   ]
  },
  {
   "cell_type": "markdown",
   "id": "2ad637cd",
   "metadata": {},
   "source": [
    "Procide to the extracion of the all the data that those atributes gave us and covert it all to new atributes"
   ]
  },
  {
   "cell_type": "code",
   "execution_count": null,
   "id": "bd57a47c",
   "metadata": {},
   "outputs": [],
   "source": [
    "#Transformar os atributos em datetime\n",
    "df['sunrise'] = pd.to_datetime(df['sunrise'])\n",
    "df['sunset'] = pd.to_datetime(df['sunset'])\n",
    "\n",
    "# Criar colunas para dia, mês, ano\n",
    "df['Year']   = df['sunrise'].dt.year\n",
    "df['Day']    = df['sunrise'].dt.day\n",
    "df['Month']  = df['sunrise'].dt.month\n",
    "\n",
    "# Criar colunas para  a hora de o sol nascer,o minuto de o sol nascer e o segundo de o sol nascer\n",
    "df['hour_rise']   = df['sunrise'].dt.hour\n",
    "df['minute_rise'] = df['sunrise'].dt.minute\n",
    "df['second_rise'] = df['sunrise'].dt.second\n",
    "\n",
    "# Criar colunas para a hora de sol se pôr, o minuto de o sol se pôr e o segundo de o sol se pôr\n",
    "df['hour_set']   = df['sunset'].dt.hour\n",
    "df['minute_set'] = df['sunset'].dt.minute\n",
    "df['second_set'] = df['sunset'].dt.second"
   ]
  },
  {
   "cell_type": "markdown",
   "id": "7f3879d5",
   "metadata": {},
   "source": [
    "Delete the old atributes because they do not have any Data that we do not have now"
   ]
  },
  {
   "cell_type": "code",
   "execution_count": null,
   "id": "accab109",
   "metadata": {},
   "outputs": [],
   "source": [
    "df.drop(['sunrise'], inplace = True, axis = 1) #  apaga-mos a coluna 'sunrise'  pois já temos essa informação\n",
    "df.drop(['sunset'], inplace = True, axis = 1) #   apaga-mos a coluna 'sunset'   pois já temos essa informação\n",
    "df.drop(['datetime'], inplace = True, axis = 1) # apaga-mos a coluna 'datetime' pois já temos essa informação"
   ]
  },
  {
   "cell_type": "markdown",
   "id": "1639a140",
   "metadata": {},
   "source": [
    "Realise that the atributes: conditions, description e icon give us the same Data but in diferent forms"
   ]
  },
  {
   "cell_type": "code",
   "execution_count": null,
   "id": "2fe8e5bb",
   "metadata": {},
   "outputs": [],
   "source": [
    "# analise do atributo conditions\n",
    "print ( df['conditions'].describe() )\n",
    "print(\"-------------------------------------------------------------------------------------------\")\n",
    "print ( df['conditions'].value_counts() )\n",
    "print(\"-------------------------------------------------------------------------------------------\")\n",
    "print(df['conditions'])"
   ]
  },
  {
   "cell_type": "code",
   "execution_count": null,
   "id": "453831e7",
   "metadata": {},
   "outputs": [],
   "source": [
    "# analise do atributo description\n",
    "print ( df['description'].describe() )\n",
    "print(\"-------------------------------------------------------------------------------------------\")\n",
    "print ( df['description'].value_counts() )\n",
    "print(\"-------------------------------------------------------------------------------------------\")\n",
    "print(df['description'])"
   ]
  },
  {
   "cell_type": "code",
   "execution_count": null,
   "id": "86a0e733",
   "metadata": {},
   "outputs": [],
   "source": [
    "# analise do atributo icon\n",
    "print ( df['icon'].describe() )\n",
    "print(\"-------------------------------------------------------------------------------------------\")\n",
    "print ( df['icon'].value_counts() )\n",
    "print(\"-------------------------------------------------------------------------------------------\")\n",
    "print(df['icon'])"
   ]
  },
  {
   "cell_type": "markdown",
   "id": "01ac7e03",
   "metadata": {},
   "source": [
    "Gruop all of this atributs and realise that the description atribut has more data"
   ]
  },
  {
   "cell_type": "code",
   "execution_count": null,
   "id": "57440a75",
   "metadata": {},
   "outputs": [],
   "source": [
    "# Criar um novo dataset com apenas os três atributos em baixo\n",
    "iguais = ['conditions', 'icon','description']\n",
    "df_novo = df[iguais]\n",
    "\n",
    "# Calcular a contagem de todas as combinações de categorias de cada coluna\n",
    "contagem_combinacoes = df.groupby(['conditions', 'icon','description']).size().reset_index(name='count')\n",
    "\n",
    "# exibir um dataset com a contagem da intercessão das diferentes combinações de categorias\n",
    "print(contagem_combinacoes)"
   ]
  },
  {
   "cell_type": "markdown",
   "id": "5e149db8",
   "metadata": {},
   "source": [
    "Creat new binary atributs through the old catgories in description"
   ]
  },
  {
   "cell_type": "code",
   "execution_count": null,
   "id": "492a0968",
   "metadata": {},
   "outputs": [],
   "source": [
    "# Criar os atributos binários\n",
    "df['rain_morning'] = (df['description'].str.contains('morning rain') |\n",
    "                      df['description'].str.contains('Partly cloudy throughout the day with rain in the morning and afternoon') |\n",
    "                      df['description'].str.contains('Partly cloudy throughout the day with a chance of rain throughout the day') |\n",
    "                      df['description'].str.contains('with rain clearing later') |\n",
    "                      df['description'].str.contains('with rain')).astype(int)"
   ]
  },
  {
   "cell_type": "code",
   "execution_count": null,
   "id": "0d469ddc",
   "metadata": {},
   "outputs": [],
   "source": [
    "df['rain_afternoon'] = (df['description'].str.contains('afternoon rain') |\n",
    "                        df['description'].str.contains('rain in the morning and afternoon') |\n",
    "                        df['description'].str.contains('Partly cloudy throughout the day with rain')\n",
    "                       ).astype(int)"
   ]
  },
  {
   "cell_type": "code",
   "execution_count": null,
   "id": "08d89b11",
   "metadata": {},
   "outputs": [],
   "source": [
    "df['cloud_morning'] = (df['description'].str.contains('Clearing in the afternoon') |\n",
    "                       df['description'].str.contains('Partly cloudy throughout the day') |\n",
    "                       df['description'].str.contains('Cloudy skies throughout the day')\n",
    "                      ).astype(int)"
   ]
  },
  {
   "cell_type": "code",
   "execution_count": null,
   "id": "9dfcce77",
   "metadata": {},
   "outputs": [],
   "source": [
    "df['cloud_afternoon'] = (df['description'].str.contains('Partly cloudy throughout the day') |\n",
    "                         df['description'].str.contains('Becoming cloudy in the afternoon') |\n",
    "                         df['description'].str.contains('Cloudy skies throughout the day')\n",
    "                        ).astype(int)"
   ]
  },
  {
   "cell_type": "code",
   "execution_count": null,
   "id": "20763fb0",
   "metadata": {},
   "outputs": [],
   "source": [
    "df['clear_morning'] = (df['description'].str.contains('Clear conditions throughout the day.') |\n",
    "                      df['description'].str.contains('Becoming cloudy in the afternoon.')\n",
    "                     ).astype(int)"
   ]
  },
  {
   "cell_type": "code",
   "execution_count": null,
   "id": "1d19981b",
   "metadata": {},
   "outputs": [],
   "source": [
    "df['clear_afternoon'] = (df['description'].str.contains('Clear conditions throughout the day') |\n",
    "                        df['description'].str.contains('Clearing in the afternoon')\n",
    "                       ).astype(int)"
   ]
  },
  {
   "cell_type": "markdown",
   "id": "d955ec96",
   "metadata": {},
   "source": [
    "Delete the old atributes because they do not have any Data that we do not have now"
   ]
  },
  {
   "cell_type": "code",
   "execution_count": null,
   "id": "c9efa95f",
   "metadata": {},
   "outputs": [],
   "source": [
    "df.drop(['conditions'], inplace = True, axis = 1)  # apaga-mos a coluna 'conditions'  pois já temos essa informação\n",
    "df.drop(['description'], inplace = True, axis = 1) # apaga-mos a coluna 'description' pois já temos essa informação\n",
    "df.drop(['icon'], inplace = True, axis = 1)        # apaga-mos a coluna 'icon'        pois já temos essa informação"
   ]
  },
  {
   "cell_type": "markdown",
   "id": "e9a9a2d7",
   "metadata": {},
   "source": [
    "Realise that the atributes: precipprob and (rain_morning and rain_afternoon) give us the same Data but in diferent forms"
   ]
  },
  {
   "cell_type": "code",
   "execution_count": null,
   "id": "e70510b2",
   "metadata": {},
   "outputs": [],
   "source": [
    "# analise do atributo precipprob\n",
    "print ( df['precipprob'].describe() )\n",
    "print(\"-------------------------------------------------------------------------------------------\")\n",
    "print ( df['precipprob'].value_counts() )\n",
    "print(\"-------------------------------------------------------------------------------------------\")\n",
    "print(df['precipprob'])\n",
    "# vemos que é um atributo que é ou 0 ou 100, para dizer se chove ou não logo como já temos as \n",
    "#colunas rain_morning and rain_afternoon concluimos que ele é inutil"
   ]
  },
  {
   "cell_type": "markdown",
   "id": "570593c9",
   "metadata": {},
   "source": [
    "Delete the atribute precipprob"
   ]
  },
  {
   "cell_type": "code",
   "execution_count": null,
   "id": "8abab61f",
   "metadata": {},
   "outputs": [],
   "source": [
    "df.drop(['precipprob'], inplace = True, axis = 1) # apaga-mos a coluna 'precipprob'  pois já temos essa informação"
   ]
  },
  {
   "cell_type": "markdown",
   "id": "2b53749e",
   "metadata": {},
   "source": [
    "Verificie all of our changes"
   ]
  },
  {
   "cell_type": "code",
   "execution_count": null,
   "id": "bae08aab",
   "metadata": {},
   "outputs": [],
   "source": [
    "df.head()"
   ]
  },
  {
   "cell_type": "markdown",
   "id": "daf8476b",
   "metadata": {},
   "source": [
    "5.Check if you can't get more data"
   ]
  },
  {
   "cell_type": "markdown",
   "id": "69648a55",
   "metadata": {},
   "source": [
    "Realise that we can extract more relevant data from the atribute winddir "
   ]
  },
  {
   "cell_type": "code",
   "execution_count": null,
   "id": "b7b6f995",
   "metadata": {},
   "outputs": [],
   "source": [
    "# analise do atributo winddir\n",
    "print ( df['winddir'].describe() )\n",
    "print(\"-------------------------------------------------------------------------------------------\")\n",
    "print ( df['winddir'].value_counts() )\n",
    "print(\"-------------------------------------------------------------------------------------------\")\n",
    "print(df['winddir'].nunique())\n",
    "print(\"-------------------------------------------------------------------------------------------\")\n",
    "print(df['winddir'])\n",
    "# este é o atributo que nos dá a direção do vento em float"
   ]
  },
  {
   "cell_type": "markdown",
   "id": "e9a4df86",
   "metadata": {},
   "source": [
    "This is the atribute that give us the direcion of the wind on a float\n",
    "\n",
    "\n",
    "This atribute was manny unique values, so whoud me better if we had the catgoric direcions: north, northeast, north-northeast, east-northeast, east, east-southeast, southeast, south, south-southeast, southwest, south-southwest, west-southwest, west, west-northwest, northwest, north-northwest, north-northeast"
   ]
  },
  {
   "cell_type": "code",
   "execution_count": null,
   "id": "fba1abef",
   "metadata": {},
   "outputs": [],
   "source": [
    "#função que categorira a direção do vento\n",
    "def categorize_wind_direction(wind_direction):\n",
    "    \n",
    "    categories = [\"north\", \"northeast\",\"north-northeast\",\"east-northeast\",\"east\",\"east-southeast\",\n",
    "                  \"southeast\", \"south\",\"south-southeast\", \"southwest\", \"south-southwest\" ,\"west-southwest\",\n",
    "                  \"west\", \"west-northwest\" ,\"northwest\",\"north-northwest\", \"north-northeast\"]\n",
    "    \n",
    "    index = round( (wind_direction % 360) / 22.5) % 16\n",
    "    return categories[index]\n",
    "\n",
    "# Aplicar a função à coluna 'winddir'\n",
    "df['winddir'] = df['winddir'].apply(categorize_wind_direction)\n",
    "\n",
    "# categorizar o atributo\n",
    "df['winddir'] = df['winddir'].astype('category')"
   ]
  },
  {
   "cell_type": "markdown",
   "id": "0c34e84f",
   "metadata": {},
   "source": [
    "Now we shoud extract all of this catgories and creat new binary atributes"
   ]
  },
  {
   "cell_type": "code",
   "execution_count": null,
   "id": "c2a6fdb1",
   "metadata": {},
   "outputs": [],
   "source": [
    "from sklearn.preprocessing import LabelBinarizer\n",
    "\n",
    "lb = LabelBinarizer()\n",
    "\n",
    "lb_results = lb.fit_transform(df['winddir'])\n",
    "\n",
    "df_lb_results = pd.DataFrame(lb_results,columns = lb.classes_)\n",
    "\n",
    "df = pd.concat([df, df_lb_results], axis = 1)\n",
    "\n",
    "# estamos a criar os novos atributos binários consuante as categorias de winddir"
   ]
  },
  {
   "cell_type": "markdown",
   "id": "af13b08a",
   "metadata": {},
   "source": [
    "Delete the atribute winddir"
   ]
  },
  {
   "cell_type": "code",
   "execution_count": null,
   "id": "07fb7714",
   "metadata": {},
   "outputs": [],
   "source": [
    "df.drop(['winddir'], inplace = True, axis = 1) # apaga-mos a coluna 'winddir'  pois já temos essa informação"
   ]
  },
  {
   "cell_type": "markdown",
   "id": "496388c8",
   "metadata": {},
   "source": [
    "Realise that we can extract more relevant data from the atribute stacions"
   ]
  },
  {
   "cell_type": "code",
   "execution_count": null,
   "id": "2d6aaba7",
   "metadata": {},
   "outputs": [],
   "source": [
    "# analise do atributo stacions\n",
    "print ( df['stations'].describe() )\n",
    "print(\"-------------------------------------------------------------------------------------------\")\n",
    "print ( df['stations'].value_counts() )\n",
    "print(\"-------------------------------------------------------------------------------------------\")\n",
    "print(df['stations'])\n",
    "\n",
    "# este é um atributo que nos dá qual foi a estação meteriológica que registou os valores"
   ]
  },
  {
   "cell_type": "markdown",
   "id": "3f8bf95e",
   "metadata": {},
   "source": [
    "Let as creat new atributes from the old atribute stacions"
   ]
  },
  {
   "cell_type": "code",
   "execution_count": null,
   "id": "70592267",
   "metadata": {},
   "outputs": [],
   "source": [
    "# Criar uma lista única de todas as estações\n",
    "all_stations = set(','.join(df['stations']).split(','))\n",
    "\n",
    "# Criar colunas binárias para cada estação\n",
    "for station in all_stations:\n",
    "    df[station] = df['stations'].apply(lambda x: int(station in x))"
   ]
  },
  {
   "cell_type": "markdown",
   "id": "a8a148b2",
   "metadata": {},
   "source": [
    "Delete the the atribute stations"
   ]
  },
  {
   "cell_type": "code",
   "execution_count": null,
   "id": "2930c273",
   "metadata": {},
   "outputs": [],
   "source": [
    "df = df.drop('stations', axis=1)# apaga-mos a coluna 'stations'  pois já temos essa informação"
   ]
  },
  {
   "cell_type": "markdown",
   "id": "57230374",
   "metadata": {},
   "source": [
    "Verifie that the new atributs 08534099999, 08536099999, LPPT and only have one value"
   ]
  },
  {
   "cell_type": "code",
   "execution_count": null,
   "id": "33d0eb8a",
   "metadata": {},
   "outputs": [],
   "source": [
    "# analise do atributo 08534099999\n",
    "print ( df['08534099999'].describe() )\n",
    "print(\"-------------------------------------------------------------------------------------------\")\n",
    "print ( df['08534099999'].value_counts() )\n",
    "print(\"-------------------------------------------------------------------------------------------\")\n",
    "print(df['08534099999'].nunique())"
   ]
  },
  {
   "cell_type": "code",
   "execution_count": null,
   "id": "9cb8e013",
   "metadata": {},
   "outputs": [],
   "source": [
    "# analise do atributo 08536099999\n",
    "print ( df['08536099999'].describe() )\n",
    "print(\"-------------------------------------------------------------------------------------------\")\n",
    "print ( df['08536099999'].value_counts() )\n",
    "print(\"-------------------------------------------------------------------------------------------\")\n",
    "print(df['08536099999'].nunique())"
   ]
  },
  {
   "cell_type": "code",
   "execution_count": null,
   "id": "9516fbbe",
   "metadata": {},
   "outputs": [],
   "source": [
    "# analise do atributo LPPT\n",
    "print ( df['LPPT'].describe() )\n",
    "print(\"-------------------------------------------------------------------------------------------\")\n",
    "print ( df['LPPT'].value_counts() )\n",
    "print(\"-------------------------------------------------------------------------------------------\")\n",
    "print(df['LPPT'].nunique())"
   ]
  },
  {
   "cell_type": "markdown",
   "id": "3a866520",
   "metadata": {},
   "source": [
    "Drop all of the atributes whith one value"
   ]
  },
  {
   "cell_type": "code",
   "execution_count": null,
   "id": "e392945e",
   "metadata": {},
   "outputs": [],
   "source": [
    "df = df.drop('08534099999', axis=1)# apaga-mos a coluna '08534099999'  pois já temos essa informação\n",
    "df = df.drop('08536099999', axis=1)# apaga-mos a coluna '08536099999'  pois já temos essa informação\n",
    "df = df.drop('LPPT', axis=1)       # apaga-mos a coluna 'LPPT'         pois já temos essa informação"
   ]
  },
  {
   "cell_type": "markdown",
   "id": "b01949bd",
   "metadata": {},
   "source": [
    "Verificie all of our changes"
   ]
  },
  {
   "cell_type": "code",
   "execution_count": null,
   "id": "26115210",
   "metadata": {},
   "outputs": [],
   "source": [
    "df.head()"
   ]
  },
  {
   "cell_type": "markdown",
   "id": "2a3a0b67",
   "metadata": {},
   "source": [
    "6.Check if we shoud bind the atributes"
   ]
  },
  {
   "cell_type": "code",
   "execution_count": null,
   "id": "e89e9346",
   "metadata": {},
   "outputs": [],
   "source": [
    "df.unique()"
   ]
  },
  {
   "cell_type": "markdown",
   "id": "98bb9c56",
   "metadata": {},
   "source": [
    "Realise that we shoud bin humidity and cloudcover beacause of the large unique values quantity"
   ]
  },
  {
   "cell_type": "code",
   "execution_count": null,
   "id": "88c0fc5d",
   "metadata": {},
   "outputs": [],
   "source": [
    "# analise do atributo humidity\n",
    "print ( df['humidity'].describe() )\n",
    "print(\"-------------------------------------------------------------------------------------------\")\n",
    "print(df['humidity'].value_counts())\n",
    "print(\"-------------------------------------------------------------------------------------------\")\n",
    "print(df['humidity'].nunique())"
   ]
  },
  {
   "cell_type": "code",
   "execution_count": null,
   "id": "0913fa02",
   "metadata": {},
   "outputs": [],
   "source": [
    "# analise do atributo cloudcover\n",
    "print ( df['cloudcover'].describe() )\n",
    "print(\"-------------------------------------------------------------------------------------------\")\n",
    "print(df['cloudcover'].value_counts())\n",
    "print(\"-------------------------------------------------------------------------------------------\")\n",
    "print(df['cloudcover'].nunique())"
   ]
  },
  {
   "cell_type": "markdown",
   "id": "1afb7294",
   "metadata": {},
   "source": [
    "Bind the atribute humidity"
   ]
  },
  {
   "cell_type": "code",
   "execution_count": null,
   "id": "d9076395",
   "metadata": {},
   "outputs": [],
   "source": [
    "# Função para fazer o binning\n",
    "def bin_humidity(value):\n",
    "    decimal_part = value - int(value)\n",
    "    \n",
    "    if decimal_part <= 0.2:\n",
    "        return math.floor(value)\n",
    "    elif 0.3 <= decimal_part <= 0.6:\n",
    "        return int(value) + 0.5\n",
    "    else:\n",
    "        return math.ceil(value)\n",
    "\n",
    "# Aplicar a função à coluna 'humidity'\n",
    "df['humidity'] = df['humidity'].apply(bin_solar_energy)\n",
    "\n",
    "# Categorizar os valores numéricos\n",
    "df['humidity'] = df['humidity'].astype('category')"
   ]
  },
  {
   "cell_type": "markdown",
   "id": "fdc44cf3",
   "metadata": {},
   "source": [
    "Bind the atribute cloudcover"
   ]
  },
  {
   "cell_type": "code",
   "execution_count": null,
   "id": "528611d4",
   "metadata": {},
   "outputs": [],
   "source": [
    "# Função para fazer o binning\n",
    "def bin_cloudcover(value):\n",
    "    decimal_part = value - int(value)\n",
    "    \n",
    "    if decimal_part <= 0.2:\n",
    "        return math.floor(value)\n",
    "    elif 0.3 <= decimal_part <= 0.6:\n",
    "        return int(value) + 0.5\n",
    "    else:\n",
    "        return math.ceil(value)\n",
    "\n",
    "# Aplicar a função à coluna 'cloudcover'\n",
    "df['cloudcover'] = df['cloudcover'].apply(bin_solar_energy)\n",
    "\n",
    "# Categorizar os valores numéricos\n",
    "df['cloudcover'] = df['cloudcover'].astype('category')"
   ]
  },
  {
   "cell_type": "markdown",
   "id": "7ddb02ca",
   "metadata": {},
   "source": [
    "Verificie all of our changes"
   ]
  },
  {
   "cell_type": "code",
   "execution_count": null,
   "id": "ad1752d1",
   "metadata": {},
   "outputs": [],
   "source": [
    "df.head()"
   ]
  },
  {
   "cell_type": "markdown",
   "id": "ceacf735",
   "metadata": {},
   "source": [
    "7.Check the correlation of the atributes"
   ]
  },
  {
   "cell_type": "code",
   "execution_count": null,
   "id": "1cabc1c5",
   "metadata": {},
   "outputs": [],
   "source": [
    "corr_matrix = df.corr()\n",
    "f,ax =  plt.subplots(figsize = (100,100))\n",
    "sns.heatmap(corr_matrix, vmin=-1, vmax=1, annot=True, square=True)"
   ]
  },
  {
   "cell_type": "markdown",
   "id": "41092b1a",
   "metadata": {},
   "source": [
    "Realise that the correlation of the atributes: feelslikemin, feelslikemax and feelslike have a hight correlacion betten them and temp"
   ]
  },
  {
   "cell_type": "code",
   "execution_count": null,
   "id": "031cf0c3",
   "metadata": {},
   "outputs": [],
   "source": [
    "sns.set_style(\"whitegrid\")\n",
    "sns.jointplot(x= 'temp', y= 'feelslikemax', data=df, kind='scatter')"
   ]
  },
  {
   "cell_type": "code",
   "execution_count": null,
   "id": "f08b07d8",
   "metadata": {},
   "outputs": [],
   "source": [
    "sns.set_style(\"whitegrid\")\n",
    "sns.jointplot(x= 'temp', y= 'feelslike', data=df, kind='scatter')"
   ]
  },
  {
   "cell_type": "code",
   "execution_count": null,
   "id": "bc777411",
   "metadata": {},
   "outputs": [],
   "source": [
    "sns.set_style(\"whitegrid\")\n",
    "sns.jointplot(x= 'temp', y= 'feelslikemin', data=df, kind='scatter')"
   ]
  },
  {
   "cell_type": "markdown",
   "id": "1eb8039a",
   "metadata": {},
   "source": [
    "Realise that the correlation of the atributes: feelslikemin, feelslikemax and feelslike have a hight correlacion betten them and tempmax"
   ]
  },
  {
   "cell_type": "code",
   "execution_count": null,
   "id": "ebd854c8",
   "metadata": {},
   "outputs": [],
   "source": [
    "sns.set_style(\"whitegrid\")\n",
    "sns.jointplot(x= 'tempmax', y= 'feelslikemax', data=df, kind='scatter')"
   ]
  },
  {
   "cell_type": "code",
   "execution_count": null,
   "id": "bfd852dd",
   "metadata": {},
   "outputs": [],
   "source": [
    "sns.set_style(\"whitegrid\")\n",
    "sns.jointplot(x= 'tempmax', y= 'feelslikemin', data=df, kind='scatter')"
   ]
  },
  {
   "cell_type": "code",
   "execution_count": null,
   "id": "9b4ef14f",
   "metadata": {},
   "outputs": [],
   "source": [
    "sns.set_style(\"whitegrid\")\n",
    "sns.jointplot(x= 'tempmax', y= 'feelslike', data=df, kind='scatter')"
   ]
  },
  {
   "cell_type": "markdown",
   "id": "c2f636f3",
   "metadata": {},
   "source": [
    "Realise that the correlation of the atributes: feelslikemin, feelslikemax and feelslike have a hight correlacion betten them and tempmin"
   ]
  },
  {
   "cell_type": "code",
   "execution_count": null,
   "id": "ad2c0f45",
   "metadata": {},
   "outputs": [],
   "source": [
    "sns.set_style(\"whitegrid\")\n",
    "sns.jointplot(x= 'tempmin', y= 'feelslikemax', data=df, kind='scatter')"
   ]
  },
  {
   "cell_type": "code",
   "execution_count": null,
   "id": "0a7c530f",
   "metadata": {},
   "outputs": [],
   "source": [
    "sns.set_style(\"whitegrid\")\n",
    "sns.jointplot(x= 'tempmin', y= 'feelslikemin', data=df, kind='scatter')"
   ]
  },
  {
   "cell_type": "code",
   "execution_count": null,
   "id": "dbe501cd",
   "metadata": {},
   "outputs": [],
   "source": [
    "sns.set_style(\"whitegrid\")\n",
    "sns.jointplot(x= 'tempmin', y= 'feelslike', data=df, kind='scatter')"
   ]
  },
  {
   "cell_type": "markdown",
   "id": "c7163a97",
   "metadata": {},
   "source": [
    "By observing the graphs and the confusion matrix, we concluded that the attributes of feels like and temperature are almost maximum, so we proceeded to eliminate them."
   ]
  },
  {
   "cell_type": "code",
   "execution_count": null,
   "id": "00e59037",
   "metadata": {},
   "outputs": [],
   "source": [
    "df.drop(['feelslikemin'], inplace = True, axis = 1)\n",
    "df.drop(['feelslikemax'], inplace = True, axis = 1)\n",
    "df.drop(['feelslike'], inplace = True, axis = 1)\n",
    "\n",
    "#Por observasão dos gráficos e da matriz de confusão concluimos que os atributos de feels like \n",
    "# e a temperatura são quase maximos logo procedemos á sua eleminação"
   ]
  },
  {
   "cell_type": "markdown",
   "id": "e4bf0f30",
   "metadata": {},
   "source": [
    "Realise that the correlation of the atribute temp have a hight correlacion betten them tempmin and tempmax"
   ]
  },
  {
   "cell_type": "code",
   "execution_count": null,
   "id": "56a2b3cf",
   "metadata": {},
   "outputs": [],
   "source": [
    "sns.set_style(\"whitegrid\")\n",
    "sns.jointplot(x= 'temp', y= 'tempmin', data=df, kind='scatter')"
   ]
  },
  {
   "cell_type": "code",
   "execution_count": null,
   "id": "acaa1b26",
   "metadata": {},
   "outputs": [],
   "source": [
    "sns.set_style(\"whitegrid\")\n",
    "sns.jointplot(x= 'temp', y= 'tempmax', data=df, kind='scatter')"
   ]
  },
  {
   "cell_type": "markdown",
   "id": "ebc7bbe5",
   "metadata": {},
   "source": [
    "For the same reason as before we shall delete the atribut temp"
   ]
  },
  {
   "cell_type": "code",
   "execution_count": null,
   "id": "2c13ff8b",
   "metadata": {},
   "outputs": [],
   "source": [
    "df.drop(['temp'], inplace = True, axis = 1)"
   ]
  },
  {
   "cell_type": "markdown",
   "id": "e390b8b4",
   "metadata": {},
   "source": [
    "Realise that the correlation of the atributes solarradiation and uvindex have a hight correlacion betten them solarenergy"
   ]
  },
  {
   "cell_type": "code",
   "execution_count": null,
   "id": "1272477c",
   "metadata": {},
   "outputs": [],
   "source": [
    "sns.set_style(\"whitegrid\")\n",
    "sns.jointplot(x= 'solarradiation', y= 'solarenergy', data=df, kind='scatter')"
   ]
  },
  {
   "cell_type": "code",
   "execution_count": null,
   "id": "9fe2e59b",
   "metadata": {},
   "outputs": [],
   "source": [
    "sns.set_style(\"whitegrid\")\n",
    "sns.jointplot(x= 'uvindex', y= 'solarenergy', data=df, kind='scatter')"
   ]
  },
  {
   "cell_type": "markdown",
   "id": "7b84802c",
   "metadata": {},
   "source": [
    "Once again for the same reasons we will eliminate the solarradiation uvindex and attributes"
   ]
  },
  {
   "cell_type": "code",
   "execution_count": null,
   "id": "c38fb9f6",
   "metadata": {},
   "outputs": [],
   "source": [
    "df.drop(['solarradiation'], inplace = True, axis = 1)\n",
    "df.drop(['uvindex'], inplace = True, axis = 1)"
   ]
  },
  {
   "cell_type": "markdown",
   "id": "0a68c257",
   "metadata": {},
   "source": [
    "By observing the correlation matrix we can see that clear_morning and cloud_morning have a correlation factor of -1, that is, when one goes up the other goes down, that is, we can remove one of them. The same reasoning can be said for the clear_afternoon and cloud_afternoon attributes."
   ]
  },
  {
   "cell_type": "code",
   "execution_count": null,
   "id": "061e6953",
   "metadata": {},
   "outputs": [],
   "source": [
    "df.drop(['clear_morning'], inplace = True, axis = 1)\n",
    "df.drop(['clear_afternoon'], inplace = True, axis = 1)\n",
    "\n",
    "#Pela observação da matriz de correlação conseguimos observar que o clear_morning e cloud_morning \n",
    "#têm um fator de correlação de -1 ou seja quando um sobe o outro desce ou seja podemos retirar um deles o mesmo racioncinio \n",
    "#pode ser dito para os atributos clear_afternoon e cloud_afternoon"
   ]
  },
  {
   "cell_type": "markdown",
   "id": "41b0f9fa",
   "metadata": {},
   "source": [
    "Verificie all of our changes"
   ]
  },
  {
   "cell_type": "code",
   "execution_count": null,
   "id": "06967822",
   "metadata": {},
   "outputs": [],
   "source": [
    "df.head()"
   ]
  },
  {
   "cell_type": "markdown",
   "id": "1a6e305a",
   "metadata": {},
   "source": [
    "Let as check the the new correlacion matrix"
   ]
  },
  {
   "cell_type": "code",
   "execution_count": null,
   "id": "7b8a2c8f",
   "metadata": {},
   "outputs": [],
   "source": [
    "corr_matrix = df.corr()\n",
    "f,ax =  plt.subplots(figsize = (100,100))\n",
    "sns.heatmap(corr_matrix, vmin=-1, vmax=1, annot=True, square=True)"
   ]
  },
  {
   "cell_type": "markdown",
   "id": "60be5658",
   "metadata": {},
   "source": [
    "Normalise every single thing to prevent diferent oder number interfiring whith our model"
   ]
  },
  {
   "cell_type": "code",
   "execution_count": null,
   "id": "7ad16402",
   "metadata": {},
   "outputs": [],
   "source": []
  }
 ],
 "metadata": {
  "kernelspec": {
   "display_name": "Python 3 (ipykernel)",
   "language": "python",
   "name": "python3"
  },
  "language_info": {
   "codemirror_mode": {
    "name": "ipython",
    "version": 3
   },
   "file_extension": ".py",
   "mimetype": "text/x-python",
   "name": "python",
   "nbconvert_exporter": "python",
   "pygments_lexer": "ipython3",
   "version": "3.10.0"
  }
 },
 "nbformat": 4,
 "nbformat_minor": 5
}
