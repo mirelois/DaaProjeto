{
 "cells": [
  {
   "cell_type": "code",
   "execution_count": null,
   "id": "a1a2d206",
   "metadata": {},
   "outputs": [],
   "source": [
    "import sklearn as skl\n",
    "import pandas as pd\n",
    "import matplotlib.pyplot as plt\n",
    "import seaborn as sns\n",
    "from sklearn import preprocessing\n",
    "import numpy as np"
   ]
  },
  {
   "cell_type": "code",
   "execution_count": null,
   "id": "40e69175",
   "metadata": {},
   "outputs": [],
   "source": [
    "df = pd.read_csv(\"Portugal 2022-08-01 to 2023-08-01.csv\", na_filter = True)"
   ]
  },
  {
   "cell_type": "code",
   "execution_count": null,
   "id": "8bc36821",
   "metadata": {},
   "outputs": [],
   "source": [
    "df.columns"
   ]
  },
  {
   "cell_type": "code",
   "execution_count": null,
   "id": "31cd5d7a",
   "metadata": {
    "scrolled": true
   },
   "outputs": [],
   "source": [
    "df.nunique()"
   ]
  },
  {
   "cell_type": "code",
   "execution_count": null,
   "id": "df6dc374",
   "metadata": {},
   "outputs": [],
   "source": [
    "df.head()"
   ]
  },
  {
   "cell_type": "code",
   "execution_count": null,
   "id": "b0773c2d",
   "metadata": {},
   "outputs": [],
   "source": [
    "df.describe()"
   ]
  },
  {
   "cell_type": "code",
   "execution_count": null,
   "id": "82adf15a",
   "metadata": {},
   "outputs": [],
   "source": [
    "df.info()"
   ]
  },
  {
   "cell_type": "code",
   "execution_count": null,
   "id": "4447d45d",
   "metadata": {},
   "outputs": [],
   "source": [
    "# ver se existem linhas duplicadas se sim apager se não não fazer nada\n",
    "print ( df.duplicated().sum() ) # não existem duplicadas por isso não fazemos nada"
   ]
  },
  {
   "cell_type": "code",
   "execution_count": null,
   "id": "119d8fed",
   "metadata": {},
   "outputs": [],
   "source": [
    "# verificar que na coluna name apenas temos um nome ou seja podemos apagar esta coluna pois não trará nada de novo para o modelo\n",
    "print ( df['name'].describe() )\n",
    "df.drop(['name'], inplace = True, axis = 1) # apaga-mos a coluna 'name'\n",
    "df.head() #verificamos que a coluna não existe mais\n"
   ]
  },
  {
   "cell_type": "code",
   "execution_count": null,
   "id": "abec7394",
   "metadata": {},
   "outputs": [],
   "source": [
    "# ver se existem celulas vazias e se existirem temos de decidir preencher ou apagalas\n",
    "sns.heatmap(df.isnull(),yticklabels= False,  cbar = False, cmap = 'viridis')"
   ]
  },
  {
   "cell_type": "code",
   "execution_count": null,
   "id": "088efce1",
   "metadata": {},
   "outputs": [],
   "source": [
    "# analisar a coluna preciptype e tentar chegar a uma decisão em o que fazer\n",
    "print(df['preciptype'])\n",
    "print('\\n')\n",
    "print ( df['preciptype'].describe() )\n",
    "print('\\n')\n",
    "print ( df['preciptype'].value_counts() )"
   ]
  },
  {
   "cell_type": "code",
   "execution_count": null,
   "id": "2623d9d8",
   "metadata": {},
   "outputs": [],
   "source": [
    "# Decidimos como temos muitas entradas em branco que devemos apagar a coluna\n",
    "\n",
    "df.drop(['preciptype'], inplace = True, axis = 1) # apaga-mos a coluna 'preciptype'"
   ]
  },
  {
   "cell_type": "code",
   "execution_count": null,
   "id": "259b733f",
   "metadata": {},
   "outputs": [],
   "source": [
    "# ver se existem celulas vazias e se existirem temos de decidir preencher ou apagalas\n",
    "sns.heatmap(df.isnull(),yticklabels= False,  cbar = False, cmap = 'viridis')"
   ]
  },
  {
   "cell_type": "code",
   "execution_count": null,
   "id": "f3ef397e",
   "metadata": {},
   "outputs": [],
   "source": [
    "df.drop(['datetime'], inplace = True, axis = 1) # apaga-mos a coluna 'datetime' pois já temos essa informação\n",
    "print (df.info()) #verificarmos que o datetime foi eliminado"
   ]
  },
  {
   "cell_type": "code",
   "execution_count": null,
   "id": "2fd3d30b",
   "metadata": {},
   "outputs": [],
   "source": [
    "df['sunrise'] = pd.to_datetime(df['sunrise'])\n",
    "\n",
    "# Criando colunas para dia, mês, ano, hora de o sol se levantar, minuto de o sol se levantar, segundo de o sol se levantar\n",
    "df['Year']   = df['sunrise'].dt.year\n",
    "df['Day']    = df['sunrise'].dt.day\n",
    "df['Month']  = df['sunrise'].dt.month\n",
    "\n",
    "df['hour_rise']   = df['sunrise'].dt.hour\n",
    "df['minute_rise'] = df['sunrise'].dt.minute\n",
    "df['second_rise'] = df['sunrise'].dt.second\n",
    "\n",
    "df.drop(['sunrise'], inplace = True, axis = 1) # apaga-mos a coluna 'sunrise' pois já temos essa informação\n",
    "\n",
    "print (df.info()) #verificarmos que o sunrise foi eliminado\n",
    "\n"
   ]
  },
  {
   "cell_type": "code",
   "execution_count": null,
   "id": "f6a9e33c",
   "metadata": {},
   "outputs": [],
   "source": [
    "df['sunset'] = pd.to_datetime(df['sunset'])\n",
    "\n",
    "# Criando colunas para dia, mês, ano, hora de o sol se levantar, minuto de o sol se levantar, segundo de o sol se levantar\n",
    "df['hour_set']   = df['sunset'].dt.hour\n",
    "df['minute_set'] = df['sunset'].dt.minute\n",
    "df['second_set'] = df['sunset'].dt.second\n",
    "\n",
    "df.drop(['sunset'], inplace = True, axis = 1) # apaga-mos a coluna 'sunset' pois já temos essa informação\n",
    "\n",
    "print (df.info()) #verificarmos que o sunset foi eliminado"
   ]
  },
  {
   "cell_type": "code",
   "execution_count": null,
   "id": "8524b5a8",
   "metadata": {},
   "outputs": [],
   "source": [
    "df.head()"
   ]
  },
  {
   "cell_type": "markdown",
   "id": "1a452969",
   "metadata": {},
   "source": [
    "Vamos tratar dos restantes atributos object:\n",
    " \n",
    "conditions, \n",
    "description, \n",
    "icon, \n",
    "stations, "
   ]
  },
  {
   "cell_type": "markdown",
   "id": "975e03af",
   "metadata": {},
   "source": [
    "Provavelmente vamos juntar as colunas conditions e description e fazer 6 novas colunas rain_morning, rain_afternoon, cloud_moring, cloud_afternoon,clear_moring, clear_afternoon"
   ]
  },
  {
   "cell_type": "code",
   "execution_count": null,
   "id": "61db6097",
   "metadata": {},
   "outputs": [],
   "source": [
    "# analise do atributo conditions e transformação nele em números\n",
    "print ( df['conditions'].describe() )\n",
    "print('\\n')\n",
    "print ( df['conditions'].value_counts() )\n",
    "print('\\n')\n",
    "print(df['conditions'])"
   ]
  },
  {
   "cell_type": "code",
   "execution_count": null,
   "id": "02ec2e5d",
   "metadata": {},
   "outputs": [],
   "source": [
    "# analise do atributo conditions\n",
    "print ( df['description'].describe() )\n",
    "print('\\n')\n",
    "print ( df['description'].value_counts() )\n",
    "print('\\n')\n",
    "print(df['description'])"
   ]
  },
  {
   "cell_type": "code",
   "execution_count": null,
   "id": "feff4dde",
   "metadata": {},
   "outputs": [],
   "source": [
    "# analise do atributo ico\n",
    "\n",
    "print ( df['icon'].describe() )\n",
    "print('\\n')\n",
    "print ( df['icon'].value_counts() )\n",
    "print('\\n')\n",
    "print(df['icon'])"
   ]
  },
  {
   "cell_type": "code",
   "execution_count": null,
   "id": "85cf9df0",
   "metadata": {},
   "outputs": [],
   "source": [
    "# Realize o groupby \n",
    "iguais = ['conditions','description', 'icon']\n",
    "df_novo = df[iguais]\n",
    "print(df_novo.head())"
   ]
  },
  {
   "cell_type": "code",
   "execution_count": null,
   "id": "f4ae6329",
   "metadata": {},
   "outputs": [],
   "source": [
    "# Calcular a contagem de todas as combinações de categorias de cada coluna\n",
    "contagem_combinacoes = df.groupby(['conditions', 'description', 'icon']).size().reset_index(name='count')\n",
    "\n",
    "# exibir um dataset com a contagem da intercessão das diferentes combinações de categorias\n",
    "print(contagem_combinacoes)"
   ]
  },
  {
   "cell_type": "markdown",
   "id": "e4295617",
   "metadata": {},
   "source": [
    "Criar os atributos binários a partir da coluna descrição (temdo em conta o dataset triplo anterior)"
   ]
  },
  {
   "cell_type": "code",
   "execution_count": null,
   "id": "f63dcd0e",
   "metadata": {},
   "outputs": [],
   "source": [
    "# Criar os atributos binários\n",
    "df['rain_morning'] = (df['description'].str.contains('morning rain') |\n",
    "                      #df['description'].str.contains('Clearing in the afternoon with early morning rain') |\n",
    "                      #df['description'].str.contains('Partly cloudy throughout the day with morning rain') |\n",
    "                      df['description'].str.contains('Partly cloudy throughout the day with rain in the morning and afternoon') |\n",
    "                      df['description'].str.contains('Partly cloudy throughout the day with a chance of rain throughout the day') |\n",
    "                      # eu tirava este(o de cima)\n",
    "                      #df['description'].str.contains('Becoming cloudy in the afternoon with morning rain') |\n",
    "                      #df['description'].str.contains('Cloudy skies throughout the day with morning rain') |\n",
    "                      #df['description'].str.contains('Clear conditions throughout the day with morning rain') |\n",
    "                      df['description'].str.contains('with rain clearing later') |\n",
    "                      #df['description'].str.contains('Becoming cloudy in the afternoon with rain in the morning and afternoon') |\n",
    "                      df['description'].str.contains('with rain')).astype(int)"
   ]
  },
  {
   "cell_type": "code",
   "execution_count": null,
   "id": "63703696",
   "metadata": {},
   "outputs": [],
   "source": [
    "#df['rain_afternoon'] = (df['description'].str.contains('Clearing in the afternoon with afternoon rain') |\n",
    "#                        df['description'].str.contains('Partly cloudy throughout the day with rain in the morning and afternoon') |\n",
    " #                       df['description'].str.contains('Partly cloudy throughout the day with afternoon rain')\n",
    " #                       # Adicione mais condições aqui conforme necessário\n",
    " #                      ).astype(int)\n",
    "                       \n",
    "#esta versao deve apanhar mais\n",
    "df['rain_afternoon'] = (df['description'].str.contains('afternoon rain') |\n",
    "                        df['description'].str.contains('rain in the morning and afternoon') |\n",
    "                        df['description'].str.contains('Partly cloudy throughout the day with rain')\n",
    "                       ).astype(int)"
   ]
  },
  {
   "cell_type": "code",
   "execution_count": null,
   "id": "d745c98e",
   "metadata": {},
   "outputs": [],
   "source": [
    "df['cloud_morning'] = (df['description'].str.contains('Clearing in the afternoon') |\n",
    "                       df['description'].str.contains('Partly cloudy throughout the day') |\n",
    "                       #df['description'].str.contains('Partly cloudy throughout the day with afternoon rain.') |\n",
    "                       #df['description'].str.contains('Partly cloudy throughout the day with late afternoon rain.') |\n",
    "                       df['description'].str.contains('Cloudy skies throughout the day')\n",
    "                      ).astype(int)"
   ]
  },
  {
   "cell_type": "code",
   "execution_count": null,
   "id": "f080c71e",
   "metadata": {},
   "outputs": [],
   "source": [
    "df['cloud_afternoon'] = (df['description'].str.contains('Partly cloudy throughout the day') |\n",
    "                         #df['description'].str.contains('Partly cloudy throughout the day with morning rain.') |\n",
    "                         df['description'].str.contains('Becoming cloudy in the afternoon') |\n",
    "                         #df['description'].str.contains('Becoming cloudy in the afternoon with morning rain.') |\n",
    "                         df['description'].str.contains('Cloudy skies throughout the day')\n",
    "                        ).astype(int)"
   ]
  },
  {
   "cell_type": "code",
   "execution_count": null,
   "id": "56f0c91a",
   "metadata": {},
   "outputs": [],
   "source": [
    "df['clear_morning'] = (df['description'].str.contains('Clear conditions throughout the day.') |\n",
    "                      df['description'].str.contains('Becoming cloudy in the afternoon.')\n",
    "                     ).astype(int)"
   ]
  },
  {
   "cell_type": "code",
   "execution_count": null,
   "id": "5d2a005d",
   "metadata": {},
   "outputs": [],
   "source": [
    "df['clear_afternoon'] = (df['description'].str.contains('Clear conditions throughout the day') |\n",
    "                        df['description'].str.contains('Clearing in the afternoon') #|\n",
    "                        #df['description'].str.contains('Clearing in the afternoon with morning rain.') |\n",
    "                        #df['description'].str.contains('Clearing in the afternoon with early morning rain.') |\n",
    "                        #df['description'].str.contains('Clearing in the afternoon with afternoon rain.') |\n",
    "                        #df['description'].str.contains('Clear conditions throughout the day with morning rain.') |\n",
    "                        #df['description'].str.contains('Partly cloudy throughout the day with rain clearing later.')\n",
    "                       ).astype(int)\n",
    "\n",
    "df.drop(['description'], inplace = True, axis = 1)\n",
    "df.drop(['conditions'], inplace = True, axis = 1)\n",
    "df.drop(['icon'], inplace = True, axis = 1)\n",
    "print ( df.info() )"
   ]
  },
  {
   "cell_type": "code",
   "execution_count": null,
   "id": "ecd502ba",
   "metadata": {},
   "outputs": [],
   "source": [
    "# analise do atributo precip\n",
    "\n",
    "print ( df['precip'].describe() )\n",
    "print('\\n')\n",
    "print ( df['precip'].value_counts() )\n",
    "print('\\n')\n",
    "print(df['precip'])\n",
    "\n",
    "# conlcusão é util"
   ]
  },
  {
   "cell_type": "code",
   "execution_count": null,
   "id": "a0a079dd",
   "metadata": {},
   "outputs": [],
   "source": [
    "# analise do atributo precipprob\n",
    "print ( df['precipprob'].describe() )\n",
    "print('\\n')\n",
    "print ( df['precipprob'].value_counts() )\n",
    "print('\\n')\n",
    "print(df['precipprob'])\n",
    "# vemos que é um atributo que é ou 0 ou 100, para dizer se chove ou não logo como já temos as \n",
    "#colunas rain_morning and rain_afternoon concluimos que ele é inutil"
   ]
  },
  {
   "cell_type": "code",
   "execution_count": null,
   "id": "3c4b579c",
   "metadata": {},
   "outputs": [],
   "source": [
    "df.drop(['precipprob'], inplace = True, axis = 1) # apagar a coluna inutil"
   ]
  },
  {
   "cell_type": "code",
   "execution_count": null,
   "id": "7665996e",
   "metadata": {},
   "outputs": [],
   "source": [
    "# analise do atributo precipcover\n",
    "print ( df['precipcover'].describe() )\n",
    "print('\\n')\n",
    "print ( df['precipcover'].value_counts() )\n",
    "print('\\n')\n",
    "print(df['precipcover'])\n",
    "# é util deve ficar"
   ]
  },
  {
   "cell_type": "code",
   "execution_count": null,
   "id": "de45fb85",
   "metadata": {},
   "outputs": [],
   "source": [
    "print (df.nunique())\n",
    "print('---------------------------------------------------')\n",
    "print(df.info())"
   ]
  },
  {
   "cell_type": "markdown",
   "id": "d1518965",
   "metadata": {},
   "source": [
    "Temos de alterar as colunas que têm muitos valores unicos, depois falar com o pessoal para dicutir qual deve ser o numero aceitavel de valores unicos."
   ]
  },
  {
   "cell_type": "markdown",
   "id": "00f4fcc6",
   "metadata": {},
   "source": [
    "Neste momento as colunas que têm de ser reconfiguradas são: winddir,solarradiation ,solarenergy, cloudcover,humidity e winddir."
   ]
  },
  {
   "cell_type": "code",
   "execution_count": null,
   "id": "4e2dbe32",
   "metadata": {},
   "outputs": [],
   "source": [
    "# analise do atributo precipcover\n",
    "print ( df['cloudcover'].describe() )\n",
    "print('\\n')\n",
    "print ( df['cloudcover'].value_counts() )\n",
    "print('\\n')\n",
    "print(df['cloudcover'].nunique())\n",
    "print('\\n')\n",
    "print(df['cloudcover'])\n",
    "\n",
    "# dar bind\n",
    "#df['winddir'] = df['winddir'].round().astype(int)\n",
    "\n",
    "print('---------------------------------------------')\n",
    "\n",
    "\n",
    "#print ( df['winddir'].describe() )\n",
    "#print('\\n')\n",
    "#print ( df['winddir'].value_counts() )\n",
    "#print('\\n')\n",
    "#print(df['winddir'].nunique())\n",
    "#print('\\n')\n",
    "#print(df['winddir'])"
   ]
  },
  {
   "cell_type": "code",
   "execution_count": null,
   "id": "66615f0c",
   "metadata": {},
   "outputs": [],
   "source": [
    "# analise do atributo precipcover\n",
    "print ( df['windspeed'].describe() )\n",
    "print('\\n')\n",
    "print ( df['windspeed'].value_counts() )\n",
    "print('\\n')\n",
    "print(df['windspeed'].nunique())\n",
    "print('\\n')\n",
    "print(df['windspeed'])\n",
    "\n",
    "#dar bind\n",
    "#df['windspeed'] = df['windspeed'].round().astype(int)\n",
    "print('-----------------------------------------------------------')\n",
    "\n",
    "#print ( df['windspeed'].describe() )\n",
    "#print('\\n')\n",
    "#print ( df['windspeed'].value_counts() )\n",
    "#print('\\n')\n",
    "#print(df['windspeed'].nunique())\n",
    "#print('\\n')\n",
    "#print(df['windspeed'])"
   ]
  },
  {
   "cell_type": "code",
   "execution_count": null,
   "id": "1ee1b83b",
   "metadata": {},
   "outputs": [],
   "source": [
    "# analise do atributo precipcover\n",
    "print ( df['winddir'].describe() )\n",
    "print('\\n')\n",
    "print ( df['winddir'].value_counts() )\n",
    "print('\\n')\n",
    "print(df['winddir'].nunique())\n",
    "print('\\n')\n",
    "print(df['winddir'])\n",
    "\n",
    "# dar bind\n",
    "#df['winddir'] = df['winddir'].round().astype(int)\n",
    "\n",
    "#print('---------------------------------------------')\n",
    "\n",
    "\n",
    "#print ( df['winddir'].describe() )\n",
    "#print('\\n')\n",
    "#print ( df['winddir'].value_counts() )\n",
    "#print('\\n')\n",
    "#print(df['winddir'].nunique())\n",
    "#print('\\n')\n",
    "#print(df['winddir'])"
   ]
  },
  {
   "cell_type": "code",
   "execution_count": null,
   "id": "1750d237",
   "metadata": {},
   "outputs": [],
   "source": [
    "# analise do atributo stations\n",
    "\n",
    "print ( df['stations'].describe() )\n",
    "print('\\n')\n",
    "print ( df['stations'].value_counts() )\n",
    "print('\\n')\n",
    "print(df['stations'])\n",
    "\n",
    "# Criar uma lista única de todas as estações\n",
    "all_stations = set(','.join(df['stations']).split(','))\n",
    "\n",
    "# Criar colunas binárias para cada estação\n",
    "for station in all_stations:\n",
    "    df[station] = df['stations'].apply(lambda x: int(station in x))\n",
    "\n",
    "# Remover a coluna original 'stations'\n",
    "df = df.drop('stations', axis=1)\n",
    "\n",
    "print('\\n')\n",
    "df.info()"
   ]
  },
  {
   "cell_type": "code",
   "execution_count": null,
   "id": "307d2f5d",
   "metadata": {},
   "outputs": [],
   "source": [
    "df.nunique()"
   ]
  },
  {
   "cell_type": "code",
   "execution_count": null,
   "id": "007b319a",
   "metadata": {},
   "outputs": [],
   "source": [
    "#alalise do atributo severerisk\n",
    "print ( df['severerisk'].describe() )\n",
    "print('\\n')\n",
    "print ( df['severerisk'].value_counts() )"
   ]
  },
  {
   "cell_type": "code",
   "execution_count": null,
   "id": "c7028982",
   "metadata": {
    "scrolled": true
   },
   "outputs": [],
   "source": [
    "# Nunca nevou logo esta coluna é unutil\n",
    "print ( df['snow'].describe() )\n",
    "print('\\n')\n",
    "print ( df['snow'].value_counts() )\n",
    "df.drop(['snow'], inplace = True, axis = 1)\n",
    "df.info()"
   ]
  },
  {
   "cell_type": "code",
   "execution_count": null,
   "id": "44ad6020",
   "metadata": {},
   "outputs": [],
   "source": [
    "# Nunca nevou logo esta coluna é unutil\n",
    "print ( df['snowdepth'].describe() )\n",
    "print('\\n')\n",
    "print ( df['snowdepth'].value_counts() )\n",
    "df.drop(['snowdepth'], inplace = True, axis = 1)\n",
    "df.info()"
   ]
  },
  {
   "cell_type": "code",
   "execution_count": null,
   "id": "6dab1857",
   "metadata": {},
   "outputs": [],
   "source": [
    "# Esta estação reguistou sempre os dados meteriológicos de todos os dias loga esta coluna é unutil \n",
    "print ( df['08534099999'].describe() )\n",
    "print('\\n')\n",
    "print ( df['08534099999'].value_counts() )\n",
    "df.drop(['08534099999'], inplace = True, axis = 1)\n",
    "df.info()"
   ]
  },
  {
   "cell_type": "code",
   "execution_count": null,
   "id": "c3fd347b",
   "metadata": {},
   "outputs": [],
   "source": [
    "# Esta estação reguistou sempre os dados meteriológicos de todos os dias loga esta coluna é unutil \n",
    "print ( df['08536099999'].describe() )\n",
    "print('\\n')\n",
    "print ( df['08536099999'].value_counts() )\n",
    "df.drop(['08536099999'], inplace = True, axis = 1)\n",
    "df.info()"
   ]
  },
  {
   "cell_type": "code",
   "execution_count": null,
   "id": "39019693",
   "metadata": {},
   "outputs": [],
   "source": [
    "# Esta estação reguistou sempre os dados meteriológicos de todos os dias loga esta coluna é unutil \n",
    "print ( df['LPPT'].describe() )\n",
    "print('\\n')\n",
    "print ( df['LPPT'].value_counts() )\n",
    "df.drop(['LPPT'], inplace = True, axis = 1)\n",
    "df.info()"
   ]
  },
  {
   "cell_type": "code",
   "execution_count": null,
   "id": "00cfc96b",
   "metadata": {},
   "outputs": [],
   "source": [
    "df.nunique()"
   ]
  },
  {
   "cell_type": "code",
   "execution_count": null,
   "id": "3326dbbe",
   "metadata": {},
   "outputs": [],
   "source": [
    "print ( df['solarenergy'].describe() )\n",
    "print('\\n')\n",
    "print(df['solarenergy'].value_counts())\n",
    "i = 1\n",
    "for v in df['solarenergy']:\n",
    "    print(\"Valor \",i,\"é \",v)\n",
    "    i +=1"
   ]
  },
  {
   "cell_type": "code",
   "execution_count": null,
   "id": "9152fa3d",
   "metadata": {},
   "outputs": [],
   "source": [
    "sns.set_style(\"whitegrid\")\n",
    "sns.jointplot(x= 'temp', y= 'feelslikemax', data=df, kind='scatter')"
   ]
  },
  {
   "cell_type": "code",
   "execution_count": null,
   "id": "aabb1eb9",
   "metadata": {},
   "outputs": [],
   "source": [
    "sns.set_style(\"whitegrid\")\n",
    "sns.jointplot(x= 'temp', y= 'feelslike', data=df, kind='scatter')"
   ]
  },
  {
   "cell_type": "code",
   "execution_count": null,
   "id": "ef0bcbb9",
   "metadata": {},
   "outputs": [],
   "source": [
    "sns.set_style(\"whitegrid\")\n",
    "sns.jointplot(x= 'temp', y= 'feelslikemin', data=df, kind='scatter')"
   ]
  },
  {
   "cell_type": "code",
   "execution_count": null,
   "id": "61c88832",
   "metadata": {},
   "outputs": [],
   "source": [
    "sns.set_style(\"whitegrid\")\n",
    "sns.jointplot(x= 'tempmax', y= 'feelslikemax', data=df, kind='scatter')"
   ]
  },
  {
   "cell_type": "code",
   "execution_count": null,
   "id": "81cffbac",
   "metadata": {},
   "outputs": [],
   "source": [
    "sns.set_style(\"whitegrid\")\n",
    "sns.jointplot(x= 'tempmax', y= 'feelslikemin', data=df, kind='scatter')"
   ]
  },
  {
   "cell_type": "code",
   "execution_count": null,
   "id": "8c18dfae",
   "metadata": {},
   "outputs": [],
   "source": [
    "sns.set_style(\"whitegrid\")\n",
    "sns.jointplot(x= 'tempmax', y= 'feelslike', data=df, kind='scatter')"
   ]
  },
  {
   "cell_type": "code",
   "execution_count": null,
   "id": "3f672882",
   "metadata": {},
   "outputs": [],
   "source": [
    "sns.set_style(\"whitegrid\")\n",
    "sns.jointplot(x= 'tempmin', y= 'feelslikemax', data=df, kind='scatter')"
   ]
  },
  {
   "cell_type": "code",
   "execution_count": null,
   "id": "3b930b39",
   "metadata": {},
   "outputs": [],
   "source": [
    "sns.set_style(\"whitegrid\")\n",
    "sns.jointplot(x= 'tempmin', y= 'feelslikemin', data=df, kind='scatter')"
   ]
  },
  {
   "cell_type": "code",
   "execution_count": null,
   "id": "cc97e91a",
   "metadata": {},
   "outputs": [],
   "source": [
    "sns.set_style(\"whitegrid\")\n",
    "sns.jointplot(x= 'tempmin', y= 'feelslike', data=df, kind='scatter')"
   ]
  },
  {
   "cell_type": "markdown",
   "id": "5356db7e",
   "metadata": {},
   "source": [
    "Por observasão dos gráficos e da matriz de confusão concluimos que os atributos de feels like e a temperatura são quase maximos \n",
    "logo procedemos á sua eleminação"
   ]
  },
  {
   "cell_type": "code",
   "execution_count": null,
   "id": "56579165",
   "metadata": {},
   "outputs": [],
   "source": [
    "df.drop(['feelslikemin'], inplace = True, axis = 1)\n",
    "df.drop(['feelslikemax'], inplace = True, axis = 1)\n",
    "df.drop(['feelslike'], inplace = True, axis = 1)"
   ]
  },
  {
   "cell_type": "code",
   "execution_count": null,
   "id": "caef79f2",
   "metadata": {},
   "outputs": [],
   "source": [
    "sns.set_style(\"whitegrid\")\n",
    "sns.jointplot(x= 'temp', y= 'tempmin', data=df, kind='scatter')"
   ]
  },
  {
   "cell_type": "code",
   "execution_count": null,
   "id": "c0bb96ed",
   "metadata": {},
   "outputs": [],
   "source": [
    "sns.set_style(\"whitegrid\")\n",
    "sns.jointplot(x= 'temp', y= 'tempmax', data=df, kind='scatter')"
   ]
  },
  {
   "cell_type": "markdown",
   "id": "c3957456",
   "metadata": {},
   "source": [
    "Pela mesma razão de cima decidimos apagar"
   ]
  },
  {
   "cell_type": "code",
   "execution_count": null,
   "id": "88ab729d",
   "metadata": {},
   "outputs": [],
   "source": [
    "df.drop(['temp'], inplace = True, axis = 1)"
   ]
  },
  {
   "cell_type": "code",
   "execution_count": null,
   "id": "96f73106",
   "metadata": {},
   "outputs": [],
   "source": [
    "sns.set_style(\"whitegrid\")\n",
    "sns.jointplot(x= 'solarenergy', y= 'solarradiation', data=df, kind='scatter')"
   ]
  },
  {
   "cell_type": "code",
   "execution_count": null,
   "id": "0e56a7da",
   "metadata": {},
   "outputs": [],
   "source": [
    "sns.set_style(\"whitegrid\")\n",
    "sns.jointplot(x= 'uvindex', y= 'solarenergy', data=df, kind='scatter')"
   ]
  },
  {
   "cell_type": "markdown",
   "id": "9b938663",
   "metadata": {},
   "source": [
    "Mais uma vez pelas mesmas razões vamos eleminar o atributo de solarradiation"
   ]
  },
  {
   "cell_type": "code",
   "execution_count": null,
   "id": "e7b20535",
   "metadata": {},
   "outputs": [],
   "source": [
    "df.drop(['solarradiation'], inplace = True, axis = 1)"
   ]
  },
  {
   "cell_type": "markdown",
   "id": "6d21572f",
   "metadata": {},
   "source": [
    "Pela observação da matriz de correlação conseguimos observar que o clear_morning e cloud_morning têm um fator de correlação de -1 ou seja quando um sobe o outro desce ou seja podemos retirar um deles o mesmo racioncinio pode ser dito para os atributos clear_afternoon e cloud_afternoon"
   ]
  },
  {
   "cell_type": "code",
   "execution_count": null,
   "id": "687eabc9",
   "metadata": {},
   "outputs": [],
   "source": [
    "df.drop(['clear_morning'], inplace = True, axis = 1)\n",
    "df.drop(['clear_afternoon'], inplace = True, axis = 1)"
   ]
  },
  {
   "cell_type": "code",
   "execution_count": null,
   "id": "95a69299",
   "metadata": {},
   "outputs": [],
   "source": [
    "plt.figure(figsize = (12,7) )\n",
    "sns.boxplot(x = 'uvindex', y ='solarenergy', data = df, palette = 'winter')"
   ]
  },
  {
   "cell_type": "code",
   "execution_count": null,
   "id": "3d2f16ea",
   "metadata": {},
   "outputs": [],
   "source": [
    "corr_matrix = df.corr()\n",
    "f,ax =  plt.subplots(figsize = (40,40))\n",
    "sns.heatmap(corr_matrix, vmin=-1, vmax=1, annot=True, square=True)"
   ]
  },
  {
   "cell_type": "code",
   "execution_count": null,
   "id": "4eff6152",
   "metadata": {},
   "outputs": [],
   "source": [
    "X = df[['tempmax','tempmin',\n",
    "     'dew','humidity','precip','precipcover',\n",
    "     'windgust','windspeed','winddir','sealevelpressure','cloudcover','visibility',\n",
    "     'uvindex','severerisk', 'moonphase', 'Year','Day','Month',\n",
    "     'hour_rise','minute_rise','second_rise','hour_set','minute_set','second_set',\n",
    "     'rain_morning','rain_afternoon','cloud_morning','cloud_afternoon',\n",
    "     'D7126', '08532099999', '08535099999' ]]"
   ]
  },
  {
   "cell_type": "code",
   "execution_count": null,
   "id": "383eb3bb",
   "metadata": {},
   "outputs": [],
   "source": [
    "y = df['solarenergy']"
   ]
  },
  {
   "cell_type": "code",
   "execution_count": null,
   "id": "fcc3d933",
   "metadata": {},
   "outputs": [],
   "source": [
    "sns.set_style(\"whitegrid\")\n",
    "for at in X:\n",
    "    sns.jointplot(x= at, y='solarenergy', data=df, kind='scatter')"
   ]
  },
  {
   "cell_type": "code",
   "execution_count": null,
   "id": "e0e6a6c9",
   "metadata": {},
   "outputs": [],
   "source": [
    "from sklearn.model_selection import train_test_split"
   ]
  },
  {
   "cell_type": "code",
   "execution_count": null,
   "id": "78c90686",
   "metadata": {},
   "outputs": [],
   "source": [
    "X_train, X_test, y_train, y_test = train_test_split(X, y, test_size=0.25, random_state=5)"
   ]
  },
  {
   "cell_type": "code",
   "execution_count": null,
   "id": "1164fb63",
   "metadata": {},
   "outputs": [],
   "source": [
    "from sklearn.linear_model import LinearRegression\n",
    "lm = LinearRegression()\n",
    "\n",
    "lm.fit(X_train,y_train)"
   ]
  },
  {
   "cell_type": "code",
   "execution_count": null,
   "id": "23c1816c",
   "metadata": {},
   "outputs": [],
   "source": [
    "print(lm.intercept_)"
   ]
  },
  {
   "cell_type": "code",
   "execution_count": null,
   "id": "e5cae958",
   "metadata": {},
   "outputs": [],
   "source": [
    "coeff_df = pd.DataFrame(lm.coef_,X.columns,columns=['Coefficient'])\n",
    "coeff_df"
   ]
  },
  {
   "cell_type": "code",
   "execution_count": null,
   "id": "afb5b922",
   "metadata": {},
   "outputs": [],
   "source": [
    "predictions = lm.predict(X_test)"
   ]
  },
  {
   "cell_type": "code",
   "execution_count": null,
   "id": "894098ca",
   "metadata": {},
   "outputs": [],
   "source": [
    "plt.scatter(y_test, predictions)"
   ]
  },
  {
   "cell_type": "code",
   "execution_count": null,
   "id": "adc2a230",
   "metadata": {},
   "outputs": [],
   "source": [
    "from sklearn import metrics"
   ]
  },
  {
   "cell_type": "code",
   "execution_count": null,
   "id": "c64f8f6f",
   "metadata": {},
   "outputs": [],
   "source": [
    "print('MAE:', metrics.mean_absolute_error(y_test, predictions))\n",
    "print('MSE:', metrics.mean_squared_error(y_test, predictions))\n",
    "print('RMSE:', np.sqrt(metrics.mean_squared_error(y_test, predictions)))"
   ]
  },
  {
   "cell_type": "code",
   "execution_count": null,
   "id": "a019d0a5",
   "metadata": {},
   "outputs": [],
   "source": [
    "from sklearn.metrics import explained_variance_score\n",
    "from sklearn.metrics import r2_score\n",
    "\n",
    "print ( explained_variance_score(y_test, predictions) )\n",
    "print ( r2_score(y_test, predictions) )"
   ]
  },
  {
   "cell_type": "code",
   "execution_count": null,
   "id": "9cbe70f5",
   "metadata": {},
   "outputs": [],
   "source": [
    "from sklearn.linear_model import LinearRegression\n",
    "from sklearn.model_selection import GridSearchCV\n",
    "\n",
    "# Defina o modelo de regressão linear como estimador\n",
    "estimator = LinearRegression()\n",
    "\n",
    "# Defina os hiperparâmetros que você deseja ajustar e os valores a serem testados\n",
    "param_grid = {\n",
    "    'fit_intercept': [True, False]\n",
    "}\n",
    "\n",
    "# Crie o objeto GridSearchCV\n",
    "grid = GridSearchCV(estimator, param_grid, refit=True, verbose=2, cv=10)\n",
    "\n",
    "# Ajuste o modelo aos dados\n",
    "grid.fit(X_train, y_train)"
   ]
  },
  {
   "cell_type": "code",
   "execution_count": null,
   "id": "3e46fe0c",
   "metadata": {},
   "outputs": [],
   "source": [
    "grid.best_estimator_"
   ]
  },
  {
   "cell_type": "code",
   "execution_count": null,
   "id": "3519d6e4",
   "metadata": {},
   "outputs": [],
   "source": [
    "grid.best_params_"
   ]
  },
  {
   "cell_type": "code",
   "execution_count": null,
   "id": "1a47b3be",
   "metadata": {},
   "outputs": [],
   "source": [
    "grid_predictions = grid.predict(X_test)"
   ]
  },
  {
   "cell_type": "code",
   "execution_count": null,
   "id": "8a4b0526",
   "metadata": {},
   "outputs": [],
   "source": [
    "plt.scatter(y_test, grid_predictions)"
   ]
  },
  {
   "cell_type": "code",
   "execution_count": null,
   "id": "2c6b9dd8",
   "metadata": {},
   "outputs": [],
   "source": [
    "print ( explained_variance_score(y_test, grid_predictions) )\n",
    "print ( r2_score(y_test, grid_predictions) )\n",
    "\n",
    "print('MAE:', metrics.mean_absolute_error(y_test, grid_predictions))\n",
    "print('MSE:', metrics.mean_squared_error(y_test, grid_predictions))\n",
    "print('RMSE:', np.sqrt(metrics.mean_squared_error(y_test, grid_predictions)))"
   ]
  },
  {
   "cell_type": "code",
   "execution_count": null,
   "id": "5618536f",
   "metadata": {},
   "outputs": [],
   "source": [
    "from sklearn.tree import DecisionTreeRegressor\n",
    "from sklearn.model_selection import GridSearchCV\n",
    "\n",
    "estimator = DecisionTreeRegressor()\n",
    "\n",
    "# Defina os hiperparâmetros que você deseja ajustar e os valores a serem testados\n",
    "param_grid = {\n",
    "    'criterion': ['squared_error', 'friedman_mse', 'absolute_error', 'poisson'],\n",
    "    \n",
    "    'splitter':  ['best', 'random'],\n",
    "    \n",
    "    'max_depth': [5,10,15]\n",
    "    \n",
    "}\n",
    "\n",
    "# Crie o objeto GridSearchCV\n",
    "grid = GridSearchCV(estimator, param_grid, refit=True, verbose=2, cv=10)\n",
    "\n",
    "# Ajuste o modelo aos dados\n",
    "grid.fit(X_train, y_train)"
   ]
  },
  {
   "cell_type": "code",
   "execution_count": null,
   "id": "5dcc1227",
   "metadata": {},
   "outputs": [],
   "source": [
    "grid.best_params_"
   ]
  },
  {
   "cell_type": "code",
   "execution_count": null,
   "id": "c9ee921c",
   "metadata": {},
   "outputs": [],
   "source": [
    "grid.best_estimator_"
   ]
  },
  {
   "cell_type": "code",
   "execution_count": null,
   "id": "d72f505a",
   "metadata": {},
   "outputs": [],
   "source": [
    "grid_predictions = grid.predict(X_test)"
   ]
  },
  {
   "cell_type": "code",
   "execution_count": null,
   "id": "ae5914b7",
   "metadata": {},
   "outputs": [],
   "source": [
    "from sklearn import tree\n",
    "fig = plt.figure(figsize = (25,20))\n",
    "tree.plot_tree(grid.best_estimator_)\n",
    "plt.show()"
   ]
  },
  {
   "cell_type": "code",
   "execution_count": null,
   "id": "4c7fffa3",
   "metadata": {},
   "outputs": [],
   "source": [
    "print ( explained_variance_score(y_test, grid_predictions) )\n",
    "print ( r2_score(y_test, grid_predictions) )\n",
    "\n",
    "print('MAE:', metrics.mean_absolute_error(y_test, grid_predictions))\n",
    "print('MSE:', metrics.mean_squared_error(y_test, grid_predictions))\n",
    "print('RMSE:', np.sqrt(metrics.mean_squared_error(y_test, grid_predictions)))"
   ]
  },
  {
   "cell_type": "code",
   "execution_count": null,
   "id": "a980de7d",
   "metadata": {},
   "outputs": [],
   "source": [
    "from sklearn.tree import DecisionTreeRegressor\n",
    "from sklearn.model_selection import GridSearchCV\n",
    "\n",
    "estimator = DecisionTreeRegressor()\n",
    "\n",
    "# Defina os hiperparâmetros que você deseja ajustar e os valores a serem testados\n",
    "param_grid = {\n",
    "    'criterion': ['squared_error', 'friedman_mse', 'absolute_error', 'poisson'],\n",
    "    \n",
    "    'splitter':  ['best', 'random'],\n",
    "    \n",
    "    'max_depth': [2,3,4,5,6,7,8],   \n",
    "}\n",
    "\n",
    "# Crie o objeto GridSearchCV\n",
    "grid = GridSearchCV(estimator, param_grid, refit=True, verbose=2, cv=10)\n",
    "\n",
    "# Ajuste o modelo aos dados\n",
    "grid.fit(X_train, y_train)"
   ]
  },
  {
   "cell_type": "code",
   "execution_count": null,
   "id": "41e4e3b2",
   "metadata": {},
   "outputs": [],
   "source": [
    "grid.best_params_"
   ]
  },
  {
   "cell_type": "code",
   "execution_count": null,
   "id": "3c7ae727",
   "metadata": {},
   "outputs": [],
   "source": [
    "grid.best_estimator_"
   ]
  },
  {
   "cell_type": "code",
   "execution_count": null,
   "id": "3d54089c",
   "metadata": {},
   "outputs": [],
   "source": [
    "grid_predictions = grid.predict(X_test)"
   ]
  },
  {
   "cell_type": "code",
   "execution_count": null,
   "id": "2395cb9e",
   "metadata": {},
   "outputs": [],
   "source": [
    "fig = plt.figure(figsize = (25,20))\n",
    "tree.plot_tree(grid.best_estimator_)\n",
    "plt.show()"
   ]
  },
  {
   "cell_type": "code",
   "execution_count": null,
   "id": "da543d4a",
   "metadata": {},
   "outputs": [],
   "source": [
    "print ( explained_variance_score(y_test, grid_predictions) )\n",
    "print ( r2_score(y_test, grid_predictions) )\n",
    "\n",
    "print('MAE:', metrics.mean_absolute_error(y_test, grid_predictions))\n",
    "print('MSE:', metrics.mean_squared_error(y_test, grid_predictions))\n",
    "print('RMSE:', np.sqrt(metrics.mean_squared_error(y_test, grid_predictions)))"
   ]
  },
  {
   "cell_type": "code",
   "execution_count": null,
   "id": "d35c02cb",
   "metadata": {},
   "outputs": [],
   "source": [
    "from sklearn.metrics import mean_absolute_percentage_error\n",
    "\n",
    "mean_absolute_percentage_error(y_test, grid_predictions)"
   ]
  },
  {
   "cell_type": "code",
   "execution_count": null,
   "id": "a902416a",
   "metadata": {},
   "outputs": [],
   "source": [
    "from sklearn.tree import DecisionTreeRegressor\n",
    "from sklearn.model_selection import GridSearchCV\n",
    "\n",
    "estimator = DecisionTreeRegressor()\n",
    "\n",
    "# Defina os hiperparâmetros que você deseja ajustar e os valores a serem testados\n",
    "param_grid = {\n",
    "    'criterion': ['squared_error', 'friedman_mse', 'absolute_error', 'poisson'],\n",
    "    \n",
    "    'splitter':  ['best', 'random'],\n",
    "    \n",
    "    'max_depth': [2,3,4,5,6,7,8,9],\n",
    "    \n",
    "    'max_features': ['auto', 'sqrt', 'log2']\n",
    "}\n",
    "\n",
    "# Crie o objeto GridSearchCV\n",
    "grid = GridSearchCV(estimator, param_grid, refit=True, verbose=2, cv=10)\n",
    "\n",
    "# Ajuste o modelo aos dados\n",
    "grid.fit(X_train, y_train)"
   ]
  },
  {
   "cell_type": "code",
   "execution_count": null,
   "id": "74236346",
   "metadata": {},
   "outputs": [],
   "source": [
    "grid.best_params_"
   ]
  },
  {
   "cell_type": "code",
   "execution_count": null,
   "id": "89a6390a",
   "metadata": {},
   "outputs": [],
   "source": [
    "grid.best_estimator_"
   ]
  },
  {
   "cell_type": "code",
   "execution_count": null,
   "id": "61bb648c",
   "metadata": {},
   "outputs": [],
   "source": [
    "grid_predictions = grid.predict(X_test)"
   ]
  },
  {
   "cell_type": "code",
   "execution_count": null,
   "id": "88e2038a",
   "metadata": {},
   "outputs": [],
   "source": [
    "fig = plt.figure(figsize = (25,20))\n",
    "tree.plot_tree(grid.best_estimator_)\n",
    "plt.show()"
   ]
  },
  {
   "cell_type": "code",
   "execution_count": null,
   "id": "f6ab7e8c",
   "metadata": {},
   "outputs": [],
   "source": [
    "print ( explained_variance_score(y_test, grid_predictions) )\n",
    "print ( r2_score(y_test, grid_predictions) )\n",
    "print(mean_absolute_percentage_error(y_test, grid_predictions))\n",
    "\n",
    "print('MAE:', metrics.mean_absolute_error(y_test, grid_predictions))\n",
    "print('MSE:', metrics.mean_squared_error(y_test, grid_predictions))\n",
    "print('RMSE:', np.sqrt(metrics.mean_squared_error(y_test, grid_predictions)))\n"
   ]
  },
  {
   "cell_type": "code",
   "execution_count": null,
   "id": "72e41ed6",
   "metadata": {},
   "outputs": [],
   "source": [
    "from sklearn.svm import SVR\n",
    "from sklearn.model_selection import GridSearchCV\n",
    "\n",
    "estimator = SVR()\n",
    "\n",
    "# Defina os hiperparâmetros que você deseja ajustar e os valores a serem testados\n",
    "param_grid = {\n",
    "    'kernel': [ 'rbf', 'sigmoid'],\n",
    "    \n",
    "    'gamma' : [1,0.1,0.01,0.001,0.0001 ],\n",
    "    \n",
    "    'C'    : [0.1,1,10,100,1000]\n",
    " \n",
    "}\n",
    "\n",
    "# Crie o objeto GridSearchCV\n",
    "grid = GridSearchCV(estimator, param_grid, refit=True, verbose=2, cv=10)\n",
    "\n",
    "# Ajuste o modelo aos dados\n",
    "grid.fit(X_train, y_train)"
   ]
  },
  {
   "cell_type": "code",
   "execution_count": null,
   "id": "0cd8d1f2",
   "metadata": {},
   "outputs": [],
   "source": [
    "grid.best_params_"
   ]
  },
  {
   "cell_type": "code",
   "execution_count": null,
   "id": "d0ecf4b3",
   "metadata": {},
   "outputs": [],
   "source": [
    "grid.best_estimator_"
   ]
  },
  {
   "cell_type": "code",
   "execution_count": null,
   "id": "eabe8a91",
   "metadata": {},
   "outputs": [],
   "source": [
    "grid_predictions = grid.predict(X_test)"
   ]
  },
  {
   "cell_type": "code",
   "execution_count": null,
   "id": "13ecff89",
   "metadata": {},
   "outputs": [],
   "source": [
    "print ( explained_variance_score(y_test, grid_predictions) )\n",
    "print ( r2_score(y_test, grid_predictions) )\n",
    "print(mean_absolute_percentage_error(y_test, grid_predictions))\n",
    "\n",
    "print('MAE:', metrics.mean_absolute_error(y_test, grid_predictions))\n",
    "print('MSE:', metrics.mean_squared_error(y_test, grid_predictions))\n",
    "print('RMSE:', np.sqrt(metrics.mean_squared_error(y_test, grid_predictions)))\n"
   ]
  },
  {
   "cell_type": "code",
   "execution_count": null,
   "id": "d3e3f8dd",
   "metadata": {},
   "outputs": [],
   "source": [
    "from sklearn.svm import SVR\n",
    "from sklearn.model_selection import GridSearchCV\n",
    "\n",
    "estimator = SVR()\n",
    "\n",
    "# Defina os hiperparâmetros que você deseja ajustar e os valores a serem testados\n",
    "param_grid = {\n",
    "    'kernel': [ 'rbf', 'sigmoid'],\n",
    "    \n",
    "    'gamma' : [1,0.1,0.01,0.001,0.0001 ],\n",
    "    \n",
    "    'C'    : [0.1,1,10,100,1000]\n",
    " \n",
    "}\n",
    "\n",
    "# Crie o objeto GridSearchCV\n",
    "grid = GridSearchCV(estimator, param_grid, refit=True, verbose=2, cv=10)\n",
    "\n",
    "# Ajuste o modelo aos dados\n",
    "grid.fit(X_train, y_train)"
   ]
  },
  {
   "cell_type": "code",
   "execution_count": null,
   "id": "78612f4d",
   "metadata": {},
   "outputs": [],
   "source": [
    "grid.best_params_"
   ]
  },
  {
   "cell_type": "code",
   "execution_count": null,
   "id": "3428dcab",
   "metadata": {},
   "outputs": [],
   "source": [
    "grid.best_estimator_"
   ]
  },
  {
   "cell_type": "code",
   "execution_count": null,
   "id": "e916a03a",
   "metadata": {},
   "outputs": [],
   "source": [
    "grid_predictions = grid.predict(X_test)"
   ]
  },
  {
   "cell_type": "code",
   "execution_count": null,
   "id": "56638678",
   "metadata": {},
   "outputs": [],
   "source": [
    "print ( explained_variance_score(y_test, grid_predictions) )\n",
    "print ( r2_score(y_test, grid_predictions) )\n",
    "print(mean_absolute_percentage_error(y_test, grid_predictions))\n",
    "\n",
    "print('MAE:', metrics.mean_absolute_error(y_test, grid_predictions))\n",
    "print('MSE:', metrics.mean_squared_error(y_test, grid_predictions))\n",
    "print('RMSE:', np.sqrt(metrics.mean_squared_error(y_test, grid_predictions)))"
   ]
  }
 ],
 "metadata": {
  "kernelspec": {
   "display_name": "Python 3 (ipykernel)",
   "language": "python",
   "name": "python3"
  },
  "language_info": {
   "codemirror_mode": {
    "name": "ipython",
    "version": 3
   },
   "file_extension": ".py",
   "mimetype": "text/x-python",
   "name": "python",
   "nbconvert_exporter": "python",
   "pygments_lexer": "ipython3",
   "version": "3.10.0"
  }
 },
 "nbformat": 4,
 "nbformat_minor": 5
}
